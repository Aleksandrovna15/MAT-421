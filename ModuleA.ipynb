{
  "nbformat": 4,
  "nbformat_minor": 0,
  "metadata": {
    "colab": {
      "provenance": [],
      "authorship_tag": "ABX9TyMloCjAX16XpnWZDnOeUPk5",
      "include_colab_link": true
    },
    "kernelspec": {
      "name": "python3",
      "display_name": "Python 3"
    },
    "language_info": {
      "name": "python"
    }
  },
  "cells": [
    {
      "cell_type": "markdown",
      "metadata": {
        "id": "view-in-github",
        "colab_type": "text"
      },
      "source": [
        "<a href=\"https://colab.research.google.com/github/Aleksandrovna15/MAT-421/blob/main/ModuleA.ipynb\" target=\"_parent\"><img src=\"https://colab.research.google.com/assets/colab-badge.svg\" alt=\"Open In Colab\"/></a>"
      ]
    },
    {
      "cell_type": "markdown",
      "source": [
        "## Module A - Alisa Fedorova"
      ],
      "metadata": {
        "id": "ZGjqZO7KZofx"
      }
    },
    {
      "cell_type": "markdown",
      "source": [
        "**9.1 Base-N and Binary**\n",
        "*   Numbers can be presented in many forms with the most common being the decimal representation which is a base 10 system that uses digits 0-9.\n",
        "*   Another popular number system, often called the language of computers, is the binary system which uses 0s and 1s to represent numbers (base 2). This system is also used with electricity since it represents the presence or absence of voltage.\n",
        "*   Although these systems are different, the same principles can be applied to any base system of numbers."
      ],
      "metadata": {
        "id": "nj0YfHTxhQxP"
      }
    },
    {
      "cell_type": "markdown",
      "source": [
        "Base 10 Decomposition:"
      ],
      "metadata": {
        "id": "QLKESmvjYHZX"
      }
    },
    {
      "cell_type": "code",
      "source": [
        "# 257.4 (base 10)\n",
        "257.4 == 2*(10**2) + 5*(10**1) + 7*(10**0) + 4*(10**(-1))"
      ],
      "metadata": {
        "colab": {
          "base_uri": "https://localhost:8080/"
        },
        "id": "gdGjuZntYKQA",
        "outputId": "f2ee0cf0-f4ec-4204-f4e4-988447feff35"
      },
      "execution_count": null,
      "outputs": [
        {
          "output_type": "execute_result",
          "data": {
            "text/plain": [
              "True"
            ]
          },
          "metadata": {},
          "execution_count": 1
        }
      ]
    },
    {
      "cell_type": "markdown",
      "source": [
        "Binary to Decimal Conversion:"
      ],
      "metadata": {
        "id": "CqQ3UNzxY7dN"
      }
    },
    {
      "cell_type": "code",
      "source": [
        "# 101011 (base 2) = 43(base 10)\n",
        "43 == 1*(2**5) + 0*(2**4) + 1*(2**3) + 0*(2**2) + 1*(2**1) + 1*(2**0)"
      ],
      "metadata": {
        "colab": {
          "base_uri": "https://localhost:8080/"
        },
        "id": "_Wi9f3T5Zgb7",
        "outputId": "ad875d8c-b40f-472e-fa16-09fce560da29"
      },
      "execution_count": null,
      "outputs": [
        {
          "output_type": "execute_result",
          "data": {
            "text/plain": [
              "True"
            ]
          },
          "metadata": {},
          "execution_count": 3
        }
      ]
    },
    {
      "cell_type": "markdown",
      "source": [
        "A more uncommon example with base 7:"
      ],
      "metadata": {
        "id": "YMrs2tziam7z"
      }
    },
    {
      "cell_type": "code",
      "source": [
        "# 3526 (base 7) = 1294 (base 10)\n",
        "1294 == 3*(7**3) + 5*(7**2) + 2*(7**1) + 6*(7**0)"
      ],
      "metadata": {
        "colab": {
          "base_uri": "https://localhost:8080/"
        },
        "id": "ZNh1XMxFbZfO",
        "outputId": "a6a464f1-b3f8-48ae-c633-574d4ce7030b"
      },
      "execution_count": null,
      "outputs": [
        {
          "output_type": "execute_result",
          "data": {
            "text/plain": [
              "True"
            ]
          },
          "metadata": {},
          "execution_count": 5
        }
      ]
    },
    {
      "cell_type": "markdown",
      "source": [
        "We are also able to perform arithmetic operations, like addition and multiplication, in base N numbers that do not necesseraly have to be decimal."
      ],
      "metadata": {
        "id": "MqpDVExjbxtK"
      }
    },
    {
      "cell_type": "code",
      "source": [
        "# Binary addition:\n",
        "# 9 + 3 = 12\n",
        "# 1001 + 0011 = 1100\n",
        "12 == 1*(2**3) + 1*(2**2) + 0*(2**1) + 0*(2**0)"
      ],
      "metadata": {
        "colab": {
          "base_uri": "https://localhost:8080/"
        },
        "id": "vnQu5zqccVKy",
        "outputId": "cd59c8ac-b067-4955-e6a9-dc2a65ec49ac"
      },
      "execution_count": null,
      "outputs": [
        {
          "output_type": "execute_result",
          "data": {
            "text/plain": [
              "True"
            ]
          },
          "metadata": {},
          "execution_count": 6
        }
      ]
    },
    {
      "cell_type": "code",
      "source": [
        "# Binary multiplication:\n",
        "# 3 * 7 = 21\n",
        "# 0011 * 0111 = 0001 0101\n",
        "21 == 1*(2**4) + 0*(2**3) + 1*(2**2) + 0*(2**1) + 1*(2**0)"
      ],
      "metadata": {
        "colab": {
          "base_uri": "https://localhost:8080/"
        },
        "id": "8wjwlvN9cysp",
        "outputId": "30133290-e6d4-42a5-b827-3a6ca61b3763"
      },
      "execution_count": null,
      "outputs": [
        {
          "output_type": "execute_result",
          "data": {
            "text/plain": [
              "True"
            ]
          },
          "metadata": {},
          "execution_count": 7
        }
      ]
    },
    {
      "cell_type": "markdown",
      "source": [
        "**9.2 Floating Point Numbers**\n",
        "*   Computers can store numbers but with a limited size (number of bits).\n",
        "*   Floating numbers allow us to store a larger range of values within that fixed limit using numbering systems like IEEE754.\n",
        "  *  IEEE754 standard puts a number into 64 bits and allocates 1 bit to the sign indicator (s), 11 bits to the exponent (e), and 52 bits to the fraction (f).\n",
        "*   Using these variables, we are able to convert a number into a floating point using this formula:\n",
        "\n",
        "    n = [((-1)^s) * (2^(e - 1023)) * (1 + f)]"
      ],
      "metadata": {
        "id": "A0_n6SoddetL"
      }
    },
    {
      "cell_type": "code",
      "source": [
        "# IEEE754 to Decimal Conversion\n",
        "# 0 10000000010 1110000000000000000000000000000000000000000000000000 = 15.0\n",
        "15.0 == (-1)**0 * (2**((1*2**10 + 1*2**1) - 1023)) * ((1*2**(-1) + 1*2**(-2) + 1*2**(-3)) + 1)"
      ],
      "metadata": {
        "colab": {
          "base_uri": "https://localhost:8080/"
        },
        "id": "Zz3SpDz4n21C",
        "outputId": "e25ffcea-a22d-4a3c-e37b-a47562108228"
      },
      "execution_count": null,
      "outputs": [
        {
          "output_type": "execute_result",
          "data": {
            "text/plain": [
              "True"
            ]
          },
          "metadata": {},
          "execution_count": 2
        }
      ]
    },
    {
      "cell_type": "code",
      "source": [
        "# Floating point values in Python can be accessed through this package\n",
        "import sys\n",
        "sys.float_info"
      ],
      "metadata": {
        "colab": {
          "base_uri": "https://localhost:8080/"
        },
        "id": "nOlZg4EjX2uf",
        "outputId": "4c5ac6d1-f8db-4789-cea1-254ff27935ab"
      },
      "execution_count": null,
      "outputs": [
        {
          "output_type": "execute_result",
          "data": {
            "text/plain": [
              "sys.float_info(max=1.7976931348623157e+308, max_exp=1024, max_10_exp=308, min=2.2250738585072014e-308, min_exp=-1021, min_10_exp=-307, dig=15, mant_dig=53, epsilon=2.220446049250313e-16, radix=2, rounds=1)"
            ]
          },
          "metadata": {},
          "execution_count": 3
        }
      ]
    },
    {
      "cell_type": "markdown",
      "source": [
        "Unfortunatly, there is a space between the next largest and smallest numbers that is caused by more bits being used for the exponent which leaves less for the fraction. We call this space the gap."
      ],
      "metadata": {
        "id": "22sEmCm9kCk3"
      }
    },
    {
      "cell_type": "code",
      "source": [
        "# Gap between numbers at 1*10**9\n",
        "import numpy as np\n",
        "np.spacing(1e9)"
      ],
      "metadata": {
        "colab": {
          "base_uri": "https://localhost:8080/"
        },
        "id": "DOgPW9pck6wd",
        "outputId": "8826dd90-cf95-4cd5-8c08-52f19f6b9180"
      },
      "execution_count": null,
      "outputs": [
        {
          "output_type": "execute_result",
          "data": {
            "text/plain": [
              "1.1920928955078125e-07"
            ]
          },
          "metadata": {},
          "execution_count": 4
        }
      ]
    },
    {
      "cell_type": "markdown",
      "source": [
        "Adding less than half of a gap to a number will result in it remaining the same"
      ],
      "metadata": {
        "id": "sYa1O6Qul2Aw"
      }
    },
    {
      "cell_type": "code",
      "source": [
        "1e9 == (1e9 + np.spacing(1e9)/3)"
      ],
      "metadata": {
        "colab": {
          "base_uri": "https://localhost:8080/"
        },
        "id": "KvmtjUv3l4NI",
        "outputId": "cc1ff77a-ba82-4967-8ef8-48b24e344519"
      },
      "execution_count": null,
      "outputs": [
        {
          "output_type": "execute_result",
          "data": {
            "text/plain": [
              "True"
            ]
          },
          "metadata": {},
          "execution_count": 10
        }
      ]
    },
    {
      "cell_type": "markdown",
      "source": [
        "When the exponent is 0, the leading 1 in the fraction takes the value 0 instead. This is called a subnormal number which is computed by:\n",
        "\n",
        "    n = [((-1)^s) * (2^(- 1022)) * (0 + f)]"
      ],
      "metadata": {
        "id": "TukSB9THmrAE"
      }
    },
    {
      "cell_type": "code",
      "source": [
        "largest = (2**(2046-1023))*((1 + sum(0.5**np.arange(1, 53))))\n",
        "largest"
      ],
      "metadata": {
        "colab": {
          "base_uri": "https://localhost:8080/"
        },
        "id": "_laQZ4H6nF7G",
        "outputId": "42367286-3e80-4b89-97c9-3bbabf320f9b"
      },
      "execution_count": null,
      "outputs": [
        {
          "output_type": "execute_result",
          "data": {
            "text/plain": [
              "1.7976931348623157e+308"
            ]
          },
          "metadata": {},
          "execution_count": 11
        }
      ]
    },
    {
      "cell_type": "code",
      "source": [
        "sys.float_info.max"
      ],
      "metadata": {
        "colab": {
          "base_uri": "https://localhost:8080/"
        },
        "id": "mVx1D4B-nLm2",
        "outputId": "de7d41a2-0613-460e-cf03-f99daef14bb6"
      },
      "execution_count": null,
      "outputs": [
        {
          "output_type": "execute_result",
          "data": {
            "text/plain": [
              "1.7976931348623157e+308"
            ]
          },
          "metadata": {},
          "execution_count": 12
        }
      ]
    },
    {
      "cell_type": "code",
      "source": [
        "smallest = (2**(1-1023))*(1+0)\n",
        "smallest"
      ],
      "metadata": {
        "colab": {
          "base_uri": "https://localhost:8080/"
        },
        "id": "pcYVdk8mnM2N",
        "outputId": "cdacf847-b57c-45b6-f654-73fbe3ec5a49"
      },
      "execution_count": null,
      "outputs": [
        {
          "output_type": "execute_result",
          "data": {
            "text/plain": [
              "2.2250738585072014e-308"
            ]
          },
          "metadata": {},
          "execution_count": 13
        }
      ]
    },
    {
      "cell_type": "code",
      "source": [
        "sys.float_info.min"
      ],
      "metadata": {
        "colab": {
          "base_uri": "https://localhost:8080/"
        },
        "id": "5ZCRWLGKnPXx",
        "outputId": "7a638b49-a11b-4992-dff1-d4a269b4208c"
      },
      "execution_count": null,
      "outputs": [
        {
          "output_type": "execute_result",
          "data": {
            "text/plain": [
              "2.2250738585072014e-308"
            ]
          },
          "metadata": {},
          "execution_count": 14
        }
      ]
    },
    {
      "cell_type": "code",
      "source": [
        "# Overflow\n",
        "big_number = sys.float_info.max + sys.float_info.max\n",
        "print(big_number)"
      ],
      "metadata": {
        "colab": {
          "base_uri": "https://localhost:8080/"
        },
        "id": "bkquKHtyncHx",
        "outputId": "5e4e8525-6ce9-4b15-f1da-208e9a52dccb"
      },
      "execution_count": null,
      "outputs": [
        {
          "output_type": "stream",
          "name": "stdout",
          "text": [
            "inf\n"
          ]
        }
      ]
    },
    {
      "cell_type": "code",
      "source": [
        "# Underflow\n",
        "small_number = 3**-1075\n",
        "print(small_number)"
      ],
      "metadata": {
        "colab": {
          "base_uri": "https://localhost:8080/"
        },
        "id": "rhu-Kp8jnf0L",
        "outputId": "5894c370-84f7-40ba-a375-4a9befce2652"
      },
      "execution_count": null,
      "outputs": [
        {
          "output_type": "stream",
          "name": "stdout",
          "text": [
            "0.0\n"
          ]
        }
      ]
    },
    {
      "cell_type": "markdown",
      "source": [
        "**9.3 Round-Off Errors**\n",
        "*   Floating numbers can not be stored with perfect precision thus, we are forced to approximate them with the finite number of bits we are given. The difference between this approximation and the actual number is what we call round-off error.\n",
        "*   The most common examples are usually found with representation error due to the number having infinite decimal values like π, e, and 1/3.\n",
        "*   Another situation that we often see is when the round-off error happens due to floating point arithmetics."
      ],
      "metadata": {
        "id": "ZQDQReNsnihX"
      }
    },
    {
      "cell_type": "code",
      "source": [
        "4.9 - 4.845 == 0.055"
      ],
      "metadata": {
        "colab": {
          "base_uri": "https://localhost:8080/"
        },
        "id": "NKux3tFBwsUo",
        "outputId": "b69f994e-4fed-44f3-eb2f-3d8e10bf4c17"
      },
      "execution_count": 4,
      "outputs": [
        {
          "output_type": "execute_result",
          "data": {
            "text/plain": [
              "False"
            ]
          },
          "metadata": {},
          "execution_count": 4
        }
      ]
    },
    {
      "cell_type": "code",
      "source": [
        "print(4.9 - 4.845)"
      ],
      "metadata": {
        "colab": {
          "base_uri": "https://localhost:8080/"
        },
        "id": "KiepJubqw387",
        "outputId": "477433ac-5df7-4c86-98d6-fca6b64f6b8e"
      },
      "execution_count": 3,
      "outputs": [
        {
          "output_type": "stream",
          "name": "stdout",
          "text": [
            "0.055000000000000604\n"
          ]
        }
      ]
    },
    {
      "cell_type": "markdown",
      "source": [
        "In Python, this problem can be solved with the round() function:"
      ],
      "metadata": {
        "id": "h_05EIt_xSnY"
      }
    },
    {
      "cell_type": "code",
      "source": [
        "0.1 + 0.2 + 0.3 == 0.6"
      ],
      "metadata": {
        "colab": {
          "base_uri": "https://localhost:8080/"
        },
        "id": "A6jH42hlxbsk",
        "outputId": "a3708bb8-6000-4e10-c57c-0ad656c62e2d"
      },
      "execution_count": 7,
      "outputs": [
        {
          "output_type": "execute_result",
          "data": {
            "text/plain": [
              "False"
            ]
          },
          "metadata": {},
          "execution_count": 7
        }
      ]
    },
    {
      "cell_type": "code",
      "source": [
        "round(0.1 + 0.2 + 0.3, 5)  == round(0.6, 5)"
      ],
      "metadata": {
        "colab": {
          "base_uri": "https://localhost:8080/"
        },
        "id": "wIuFY5pRxeFm",
        "outputId": "ed68610e-8bea-436b-d185-61add1804da5"
      },
      "execution_count": 8,
      "outputs": [
        {
          "output_type": "execute_result",
          "data": {
            "text/plain": [
              "True"
            ]
          },
          "metadata": {},
          "execution_count": 8
        }
      ]
    },
    {
      "cell_type": "markdown",
      "source": [
        "When dealing with concecutive arithmetic operations, round-off error and accumilate:"
      ],
      "metadata": {
        "id": "s4KlFu8fxslp"
      }
    },
    {
      "cell_type": "code",
      "source": [
        "# defining the method add_and_subtract\n",
        "def add_and_subtract(iterations):\n",
        "    result = 1\n",
        "\n",
        "    for i in range(iterations):\n",
        "        result += 1/3\n",
        "\n",
        "    for i in range(iterations):\n",
        "        result -= 1/3\n",
        "    return result"
      ],
      "metadata": {
        "id": "DUeuczIqymkD"
      },
      "execution_count": 9,
      "outputs": []
    },
    {
      "cell_type": "code",
      "source": [
        "add_and_subtract(100)"
      ],
      "metadata": {
        "colab": {
          "base_uri": "https://localhost:8080/"
        },
        "id": "Ozu1jSwxys8E",
        "outputId": "01640e0b-7cd6-4c6e-ec07-dd8c965699f3"
      },
      "execution_count": 10,
      "outputs": [
        {
          "output_type": "execute_result",
          "data": {
            "text/plain": [
              "1.0000000000000002"
            ]
          },
          "metadata": {},
          "execution_count": 10
        }
      ]
    },
    {
      "cell_type": "code",
      "source": [
        "add_and_subtract(1000)"
      ],
      "metadata": {
        "colab": {
          "base_uri": "https://localhost:8080/"
        },
        "id": "Abv-2P7oywvV",
        "outputId": "87eff6be-fd75-4401-c5ab-0eadc5c72a59"
      },
      "execution_count": 11,
      "outputs": [
        {
          "output_type": "execute_result",
          "data": {
            "text/plain": [
              "1.0000000000000064"
            ]
          },
          "metadata": {},
          "execution_count": 11
        }
      ]
    },
    {
      "cell_type": "code",
      "source": [
        "add_and_subtract(10000)"
      ],
      "metadata": {
        "colab": {
          "base_uri": "https://localhost:8080/"
        },
        "id": "5d-iBjI7y0VZ",
        "outputId": "af20cb86-baea-42e1-ba41-fc857dbca5fe"
      },
      "execution_count": 12,
      "outputs": [
        {
          "output_type": "execute_result",
          "data": {
            "text/plain": [
              "1.0000000000001166"
            ]
          },
          "metadata": {},
          "execution_count": 12
        }
      ]
    }
  ]
}