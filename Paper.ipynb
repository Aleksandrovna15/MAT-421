{
  "nbformat": 4,
  "nbformat_minor": 0,
  "metadata": {
    "colab": {
      "provenance": [],
      "authorship_tag": "ABX9TyMaLwx4h4vrEQzOtZIA4WUk",
      "include_colab_link": true
    },
    "kernelspec": {
      "name": "python3",
      "display_name": "Python 3"
    },
    "language_info": {
      "name": "python"
    }
  },
  "cells": [
    {
      "cell_type": "markdown",
      "metadata": {
        "id": "view-in-github",
        "colab_type": "text"
      },
      "source": [
        "<a href=\"https://colab.research.google.com/github/Aleksandrovna15/MAT-421/blob/main/Paper.ipynb\" target=\"_parent\"><img src=\"https://colab.research.google.com/assets/colab-badge.svg\" alt=\"Open In Colab\"/></a>"
      ]
    },
    {
      "cell_type": "markdown",
      "source": [
        "# MAT 421 Final Project - Linear Regression"
      ],
      "metadata": {
        "id": "JKXzE7hGI9em"
      }
    },
    {
      "cell_type": "markdown",
      "source": [
        "## Introduction\n",
        "### Project Statement\n",
        "The goal of this project is to create a basic linear regression model based on a single important parameter, such as income or credit score, to forecast loan acceptance chances. The dataset used for this project is sourced from Kaggle: Loan Approval Prediction Dataset. This study is relevant since it offers a straightforward but efficient instrument for loan approval prediction that can be readily understood and used. Machine learning models allow one to automate this procedure, hence improving efficiency, lowering bias, and increasing decision accuracy.\n",
        "\n",
        "Financial institutions must make important decisions about the loan approval process since it has a direct effect on their profitability and risk management. Manually evaluating variables, including income, employment status, and credit score, is a common practice in traditional loan approval processes. This process can be laborious and costly.\n",
        "\n",
        "### Linear Regression\n",
        "A statistical method for determining the linear relationship between a dependent variable and one or more independent variables is called linear regression. This method can be used to predict a continuous variable in supervised learning regression situations. Simple and multiple linear regression are the two subtypes of linear regression.\n",
        "\n",
        "**Simple linear regression** is a foundational statistical technique used to model the relationship between a dependent variable and a single independent variable. It is widely applied across various domains, including finance, economics, and social sciences, due to its simplicity and interpretability. According to the National Centre for Learning (NCL), simple linear regression aims to fit a straight line to the data, represented by the equation  \n",
        "\n",
        "$y=β0+β1x$  \n",
        "\n",
        "where  $y$  is the dependent variable,  $x$  is the independent variable,  $β0$  is the intercept, and  $β1$  is the slope of the line.\n",
        "\n",
        "This method is particularly useful for understanding and quantifying the linear relationship between two variables, making it a popular choice for predictive modeling tasks. This project will only have one independent variable and one dependent variable. Fitting a straight line to the data is the most basic type of linear regression.\n",
        "\n",
        "To simplify this concept even further, the relationship can be described by a line:\n",
        "\n",
        "$y = ax + b$\n",
        "\n",
        "where $a$ is $β1$ and $b$ is $β0$.\n",
        "\n",
        "Multiple linear regressions follow a similar methodology, but they include more than one coefficient. The model will still follow a linear pattern, but it will count multiple factors (independent variables) to calculate the result (dependent variable). The equation for a multiple linear regression model will be in the form $y=β0+β1x+β2x+β3x...$ where $y$ is the dependent variable and $x$ is the independent variable, $β0$ is the intercept, and $β1,β2,β3...$ are responsible for the slope of the line.\n",
        "\n",
        "### Linear Regression Assumptions\n",
        "\n",
        "While constructing a linear regression model, we need to keep in mind some assumptions that have to be taken into account.\n",
        "1. Linearity\n",
        "   *   The relationship between the independent and dependent variables is linear.\n",
        "   *   This simply means that any changes made to the independent variable is proportional to the dependent variable and vice versa.\n",
        "2. Homoscedasticity of Residuals\n",
        "   * Homoscedasticity is an assumption that states that the residuals, which are the differences between actual and estimated values, should have a constant variance overall. The spread of errors should be relatively uniform.\n",
        "3. Multivariate Normality\n",
        "   *   The residuals should be normally distributed when considering multiple predictors. This plays a crucial role when analyzing data statistics and shows the validity of the tests performed.\n",
        "4. Independence of Errors\n",
        "   *   It ensures that the residuals are not correlated with each other or in other words, the error of one observation does not influence the error of another observation.\n",
        "5. Lack of Multicollinearity\n",
        "   *   Multicollinearity is when two or more independent variables in the model are way too correlated, leading to possible replication of data. It can affect other statistics, making it harder to figure out the relationship between the independent and dependent variables.\n",
        "6. Absence of Endogeneity\n",
        "   *   Mainly applies to the multiple regression models. No endogeneity means that the independent variables in the regression model should not be correlated with the error term. Violating this assumption can cause bias in the coefficient estimates."
      ],
      "metadata": {
        "id": "xPt8ZOQw_Th1"
      }
    },
    {
      "cell_type": "markdown",
      "source": [
        "## Math Method\n",
        "### Least Squares Method\n",
        "\n",
        "As we plot the data points on a plane, we need to figure out how we can find the **regression line** that represents our model. The goal is to get the line as close to the points as possible and divide the scatter plot in half, half of the data points on one side of the line and half on the other. This line will represent the relationship between the independent and the dependent variables.\n",
        "\n",
        "The least squares method helps us find the parameters of the regression line by calculating the error, the difference between the actual data point ($y_x$) and the point estimated by the regression line ($ŷ_x$), and thus, helping us find the line with the least amount of error. The amount of error in a line can be described by a function that we call the **Cost Function**.\n",
        "\n",
        "Since we are looking for a line that is relatively closest to all points, we need to look for a line with the least amount of error. We can minimize the error by calculating the residual, the distance between the actual $y$ value and the estimated $y$ value, using the formula denoted by $d_x$:\n",
        "\n",
        "$d_x = y_x - ŷ_x$\n",
        "\n",
        "where x is our independent variable.\n",
        "\n",
        "The Cost Function is the sum of all the residuals squared, hence, it describes the Least Squares Method. The reason why it is square is that the residuals can be negative, which would cancel out the positive residuals. If we consider this issue realistically, we simply can not have a negative distance. Thus, we square the residuals to cancel out the negatives. The function is described by the formula:\n",
        "\n",
        "$D = Ʃ(d_x)^2$\n",
        "\n",
        "Going back to our objective, using this formula, we can calculate the error of the line using all residuals and find the line of best fit, the regression line, so that the error is as small as possible.\n",
        "\n",
        "By minimizing the error, $D$, we can estimate the coefficients $β0$ and $β1$ of the regression line described by the equation:\n",
        "\n",
        "$y=β0+β1x$\n",
        "\n",
        "For this project, we will be calculating metrics such as R-squared and Root Mean Squared Error (RMSE) to evaluate the created model's performance."
      ],
      "metadata": {
        "id": "K0ef3VyT0ffY"
      }
    },
    {
      "cell_type": "markdown",
      "source": [
        "## Data\n",
        "\n"
      ],
      "metadata": {
        "id": "sY6LHyDk0nw3"
      }
    },
    {
      "cell_type": "markdown",
      "source": [
        "### Importing the dataset\n",
        "The data for this project was taken from kaggle.com, which provides numerous public datasets. The chosen dataset for this specific project is the Loan-Approval-Prediction-Dataset by Archit Sharma. This dataset has over four thousand data points and contains many columns, factors, including credit scores, loan amount, loan term, education status, etc. For simplicity, we have chosen 99 already approved loans, and we will be analyzing the correlation between the loan amount (dependent variable) and credit score (independent variable).\n",
        "\n",
        "**Kaggle link to the dataset:** https://www.kaggle.com/datasets/architsharma01/loan-approval-prediction-dataset\n",
        "\n",
        "Below, we are importing the dataset into the variable df, which we will also be analyzing further."
      ],
      "metadata": {
        "id": "A_E_HgBc59yH"
      }
    },
    {
      "cell_type": "code",
      "source": [
        "import pandas as pd\n",
        "#importing the dataset\n",
        "url = 'https://raw.githubusercontent.com/Aleksandrovna15/MAT-421/main/loan_dataset.txt'\n",
        "df = pd.read_csv(url, sep='\\t', header=None)"
      ],
      "metadata": {
        "id": "WUvBH5r50j2O"
      },
      "execution_count": 2,
      "outputs": []
    },
    {
      "cell_type": "markdown",
      "source": [
        "After we read the file, we store it as a file object using a pandas library function read_csv(). However, this function is not the only one in the pandas library. We can explore more attributes of a file object using other functions."
      ],
      "metadata": {
        "id": "BExeQ7qYMEo4"
      }
    },
    {
      "cell_type": "markdown",
      "source": [
        "### pandas info()\n",
        "To start off, the info() function can display the basic description of our dataset."
      ],
      "metadata": {
        "id": "s-BwYSlqTseO"
      }
    },
    {
      "cell_type": "code",
      "source": [
        "# display the characteristics of df\n",
        "print(df.info())"
      ],
      "metadata": {
        "colab": {
          "base_uri": "https://localhost:8080/"
        },
        "id": "TJ1D1BszUBFK",
        "outputId": "10564721-2c59-4edf-c488-3c2bca4b698d"
      },
      "execution_count": 3,
      "outputs": [
        {
          "output_type": "stream",
          "name": "stdout",
          "text": [
            "<class 'pandas.core.frame.DataFrame'>\n",
            "RangeIndex: 99 entries, 0 to 98\n",
            "Data columns (total 2 columns):\n",
            " #   Column  Non-Null Count  Dtype\n",
            "---  ------  --------------  -----\n",
            " 0   0       99 non-null     int64\n",
            " 1   1       99 non-null     int64\n",
            "dtypes: int64(2)\n",
            "memory usage: 1.7 KB\n",
            "None\n"
          ]
        }
      ]
    },
    {
      "cell_type": "markdown",
      "source": [
        "### pandas head()\n",
        "The head function simply accesses the file object and returns the first 5 rows of it. We can use print() to display it."
      ],
      "metadata": {
        "id": "7gZBDqBGTq_o"
      }
    },
    {
      "cell_type": "code",
      "source": [
        "# displaying first 5 rows of the file object\n",
        "print(df.head())"
      ],
      "metadata": {
        "colab": {
          "base_uri": "https://localhost:8080/"
        },
        "id": "r2x5jOyPNcsc",
        "outputId": "08de9e07-487c-4ab0-baa5-36862a8221f3"
      },
      "execution_count": 4,
      "outputs": [
        {
          "output_type": "stream",
          "name": "stdout",
          "text": [
            "          0    1\n",
            "0  29900000  778\n",
            "1  12200000  417\n",
            "2  29700000  506\n",
            "3  30700000  467\n",
            "4  24200000  382\n"
          ]
        }
      ]
    },
    {
      "cell_type": "markdown",
      "source": [
        "### pandas shape()\n",
        "This one displays the dimensions of the uploaded dataset."
      ],
      "metadata": {
        "id": "mOSWGAlAQ9Sa"
      }
    },
    {
      "cell_type": "code",
      "source": [
        "# display the dimention of df\n",
        "print(df.shape)"
      ],
      "metadata": {
        "colab": {
          "base_uri": "https://localhost:8080/"
        },
        "id": "n3OwtlD_RG5e",
        "outputId": "fd0ac40c-3920-4028-b4a0-beb7c71ef8d7"
      },
      "execution_count": 5,
      "outputs": [
        {
          "output_type": "stream",
          "name": "stdout",
          "text": [
            "(99, 2)\n"
          ]
        }
      ]
    },
    {
      "cell_type": "markdown",
      "source": [
        "### Adding columns\n",
        "Using the attribute columns, we can better organize the dataset and add column names."
      ],
      "metadata": {
        "id": "OklcxCXYRMe9"
      }
    },
    {
      "cell_type": "code",
      "source": [
        "# adding columns\n",
        "df.columns = ['Loan Amount', 'Credit Score']"
      ],
      "metadata": {
        "id": "2BODU-E2RfBT"
      },
      "execution_count": 6,
      "outputs": []
    },
    {
      "cell_type": "markdown",
      "source": [
        "Now we can display and see the updated table."
      ],
      "metadata": {
        "id": "2h8gS6Y3R5WE"
      }
    },
    {
      "cell_type": "code",
      "source": [
        "# print the first 5 rows of the updated table\n",
        "print(df.head())"
      ],
      "metadata": {
        "colab": {
          "base_uri": "https://localhost:8080/"
        },
        "id": "mGy1WoDsSDk5",
        "outputId": "e9351851-696d-47d0-95e3-76324771a416"
      },
      "execution_count": 7,
      "outputs": [
        {
          "output_type": "stream",
          "name": "stdout",
          "text": [
            "   Loan Amount  Credit Score\n",
            "0     29900000           778\n",
            "1     12200000           417\n",
            "2     29700000           506\n",
            "3     30700000           467\n",
            "4     24200000           382\n"
          ]
        }
      ]
    },
    {
      "cell_type": "markdown",
      "source": [
        "### pandas describe()\n",
        "Describe is similar to info except that it actually calculates some basic statistics of the data, like min, max, the mean, etc."
      ],
      "metadata": {
        "id": "lyug411YUo6w"
      }
    },
    {
      "cell_type": "code",
      "source": [
        "# display the description of df and basic statistics\n",
        "print(df.describe())"
      ],
      "metadata": {
        "colab": {
          "base_uri": "https://localhost:8080/"
        },
        "id": "8V64sgzXU6aS",
        "outputId": "d4dbc716-1101-4e7f-edc0-5d47262d236c"
      },
      "execution_count": 8,
      "outputs": [
        {
          "output_type": "stream",
          "name": "stdout",
          "text": [
            "        Loan Amount  Credit Score\n",
            "count  9.900000e+01     99.000000\n",
            "mean   1.619798e+07    567.777778\n",
            "std    9.694549e+06    173.205055\n",
            "min    1.100000e+06    300.000000\n",
            "25%    8.300000e+06    409.500000\n",
            "50%    1.480000e+07    562.000000\n",
            "75%    2.460000e+07    696.500000\n",
            "max    3.760000e+07    861.000000\n"
          ]
        }
      ]
    },
    {
      "cell_type": "markdown",
      "source": [
        "## Implementation\n",
        "\n",
        "We will be implementing the methodology using some built-in Python Libraries\n",
        "*   Numpy: Which provides methods for fast calculations and needed data structures.\n",
        "*   pandas: Which helps with storage and data manipulation/ analysis.\n",
        "*   Matplotlib: Helps with basic plots and data formatting.\n",
        "*   Scikit - Learn: A machine learning library that helps us with regression models."
      ],
      "metadata": {
        "id": "w7kNeloV0k7K"
      }
    },
    {
      "cell_type": "code",
      "source": [
        "#importing the libraries\n",
        "import numpy as np\n",
        "import pandas as pd\n",
        "import matplotlib.pyplot as plt\n",
        "import matplotlib\n",
        "matplotlib.use('inline')                    #needed for future formatting"
      ],
      "metadata": {
        "id": "xxyx6lWqMqk9"
      },
      "execution_count": 9,
      "outputs": []
    },
    {
      "cell_type": "markdown",
      "source": [
        "## Variables\n",
        "As mentioned before, to create a proper correlation, the independent variable $x$ will be the credit scores, and the dependent variable $y$ will be the approved loan amounts.\n",
        "\n",
        "The reason is for better graph dimensions and to show that the higher the credit score, the more likely a certain amount will be approved.\n",
        "\n",
        "The values attribute, using pandas, allows us to take the numerical values from the column and put them into a list."
      ],
      "metadata": {
        "id": "wiW2Mrj0VYR3"
      }
    },
    {
      "cell_type": "code",
      "source": [
        "# declare the variables and assign proper columns to them\n",
        "x = df['Credit Score'].values\n",
        "y = df['Loan Amount'].values\n",
        "\n",
        "print(\"Credit scores: \", x)\n",
        "print(\"Loan amounts: \", y)"
      ],
      "metadata": {
        "colab": {
          "base_uri": "https://localhost:8080/"
        },
        "id": "k-7D3PsCYhbE",
        "outputId": "455f022a-4863-4cb3-d909-82981bdc48e4"
      },
      "execution_count": 10,
      "outputs": [
        {
          "output_type": "stream",
          "name": "stdout",
          "text": [
            "Credit scores:  [778 417 506 467 382 319 678 382 782 388 547 538 311 679 469 794 663 780\n",
            " 736 652 315 530 311 551 324 514 696 662 336 850 313 363 436 830 612 691\n",
            " 636 348 830 352 712 822 540 342 787 331 679 677 634 662 502 435 689 657\n",
            " 590 818 431 841 421 797 478 669 365 586 784 364 715 693 777 312 340 386\n",
            " 418 735 494 671 697 801 576 639 470 826 363 613 713 439 387 402 837 641\n",
            " 489 540 844 452 366 300 470 861 562]\n",
            "Loan amounts:  [29900000 12200000 29700000 30700000 24200000 13500000 33000000 15000000\n",
            "  2200000  4300000 11200000 22700000 11600000 31500000  7400000 10700000\n",
            "  1600000  9400000 10300000 14600000 19400000 14000000 25700000  1400000\n",
            "  9800000  9500000 28100000  5600000 24000000 31500000 25300000 12000000\n",
            "  1600000 22000000 11900000  3400000  6200000 27200000  7700000  5100000\n",
            " 18100000 24900000  3400000  2300000 13400000 27800000 14600000 19100000\n",
            " 20500000 19100000 25400000 24700000  7600000 23000000 19700000 24500000\n",
            " 10600000 30500000 18400000 18200000 18900000 30500000 28900000  7500000\n",
            " 12300000 10300000 29100000 10100000 12400000  5000000  1500000 18600000\n",
            " 18300000 16700000  8400000  6500000 14800000 33500000 29400000  1400000\n",
            "  8900000 31200000 21200000  8600000  8200000 21200000  3800000 28300000\n",
            "  8000000 37600000 21100000 20700000  8900000  6400000  2000000  1100000\n",
            " 15000000 25000000 29400000]\n"
          ]
        }
      ]
    },
    {
      "cell_type": "markdown",
      "source": [
        "## Visualizing the data\n",
        "Using pandas and matplot functions, we can make a scatter plot of the dataset. We will be using the input variable/the independent variable in $x$ and the output variable/dependent variable in $y$ for our x and y axes, respectively. Each tick of on the y axis represents that number times 10 million in the dollar amount of the approved loan."
      ],
      "metadata": {
        "id": "t-XvUCT7Zcdl"
      }
    },
    {
      "cell_type": "code",
      "source": [
        "# plot the scatter plot\n",
        "plt.scatter(x, y, color = 'blue')\n",
        "plt.title('Relationship between Accepted Loan Amounts and Credit Scores')\n",
        "plt.xlabel('Credit Scores')\n",
        "plt.ylabel('Loan Amounts (10 million dollars)')\n",
        "plt.yticks(np.arange(0, 34000000, 2000000))\n",
        "plt.show()"
      ],
      "metadata": {
        "colab": {
          "base_uri": "https://localhost:8080/",
          "height": 487
        },
        "id": "6WLUQkTjgkQ6",
        "outputId": "a678e3cb-1dbd-4f18-cc05-576285234584"
      },
      "execution_count": 11,
      "outputs": [
        {
          "output_type": "display_data",
          "data": {
            "text/plain": [
              "<Figure size 640x480 with 1 Axes>"
            ],
            "image/png": "[encoded data removed]"
          },
          "metadata": {}
        }
      ]
    },
    {
      "cell_type": "markdown",
      "source": [
        "### Dimentions of x and y\n",
        "Due to the fact that we are working with Scikit-Learn, we must check for dimensions of the lists x and y and edit them if needed."
      ],
      "metadata": {
        "id": "To5JmuILj-8B"
      }
    },
    {
      "cell_type": "code",
      "source": [
        "print(x.shape)\n",
        "print(y.shape)"
      ],
      "metadata": {
        "colab": {
          "base_uri": "https://localhost:8080/"
        },
        "id": "IEnycsG4kOVV",
        "outputId": "e6e9dc13-b6a8-4b9c-894b-1fad0aee97e5"
      },
      "execution_count": 12,
      "outputs": [
        {
          "output_type": "stream",
          "name": "stdout",
          "text": [
            "(99,)\n",
            "(99,)\n"
          ]
        }
      ]
    },
    {
      "cell_type": "markdown",
      "source": [
        "From the check, we can see that each array is 99 items long. However, we will be working with matrices which means that we must have a height of 1 for the arrays for our math to work.\n",
        "\n",
        "To do that, we will be using reshape() function from Numpy to specify the dimensions of each array. Since -1 is considered \"unspecified\", the real dimensions will be recalculated accordingly."
      ],
      "metadata": {
        "id": "ByRsjW7skRto"
      }
    },
    {
      "cell_type": "code",
      "source": [
        "# reshape the arrays\n",
        "x = x.reshape(-1, 1)\n",
        "y = y.reshape(-1, 1)"
      ],
      "metadata": {
        "id": "FFo1A48Ek2UZ"
      },
      "execution_count": 13,
      "outputs": []
    },
    {
      "cell_type": "code",
      "source": [
        "# print the newly edited dimensions\n",
        "print(x.shape)\n",
        "print(y.shape)"
      ],
      "metadata": {
        "colab": {
          "base_uri": "https://localhost:8080/"
        },
        "id": "iTGLMP33lS-R",
        "outputId": "a010eea4-c7bc-41ef-9984-cf3738125f5c"
      },
      "execution_count": 14,
      "outputs": [
        {
          "output_type": "stream",
          "name": "stdout",
          "text": [
            "(99, 1)\n",
            "(99, 1)\n"
          ]
        }
      ]
    },
    {
      "cell_type": "markdown",
      "source": [
        "## Determining the testing sets\n",
        "We will be splitting the x and y sets into training and testing sets. The model will learn from one and test its knowledge using the other."
      ],
      "metadata": {
        "id": "4kOROIdvl800"
      }
    },
    {
      "cell_type": "code",
      "source": [
        "# splitting the two sets\n",
        "from sklearn.model_selection import train_test_split\n",
        "x_train, x_test, y_train, y_test = train_test_split(x, y, test_size=0.33, random_state=42)"
      ],
      "metadata": {
        "id": "JYXjdzdLoM8G"
      },
      "execution_count": 15,
      "outputs": []
    },
    {
      "cell_type": "code",
      "source": [
        "# printing the dimensions of the sets\n",
        "print(x_train.shape)\n",
        "print(x_test.shape)\n",
        "print(y_train.shape)\n",
        "print(y_test.shape)"
      ],
      "metadata": {
        "colab": {
          "base_uri": "https://localhost:8080/"
        },
        "id": "DEcSjcnQAd7u",
        "outputId": "eb6498ee-2b55-4780-dc91-fc849403c14e"
      },
      "execution_count": 16,
      "outputs": [
        {
          "output_type": "stream",
          "name": "stdout",
          "text": [
            "(66, 1)\n",
            "(33, 1)\n",
            "(66, 1)\n",
            "(33, 1)\n"
          ]
        }
      ]
    },
    {
      "cell_type": "markdown",
      "source": [
        "## Training the model\n",
        "Now that we have gotten our training and testing sets, we can start training the model.\n",
        "To do that, we will be using the sklearn library and specifically importing the Linear Regression model. We will train it using the fit() function and then use predict() to test it."
      ],
      "metadata": {
        "id": "knrNNMT6DceO"
      }
    },
    {
      "cell_type": "code",
      "source": [
        "# import the Regression model\n",
        "from sklearn.linear_model import LinearRegression\n",
        "\n",
        "model = LinearRegression()\n",
        "model.fit(x_train, y_train)\n",
        "\n",
        "# predict the output using the model\n",
        "y_predict = model.predict(x_test)"
      ],
      "metadata": {
        "id": "_yceQh-WEubW"
      },
      "execution_count": 17,
      "outputs": []
    },
    {
      "cell_type": "markdown",
      "source": [
        "## Finding the regression line\n",
        "After training the model, we can find a and b of the regression line equation:\n",
        "\n",
        "$y = ax + b$ or $y=β0+β1x$  \n",
        "\n",
        "By accessing the attributes of the model, like coef_ and intercept_, we can now assemble the equation of the line. The coef_ will be our $β1$ and the intercept_ is $β0$."
      ],
      "metadata": {
        "id": "RqTi-imVFQrf"
      }
    },
    {
      "cell_type": "code",
      "source": [
        "b_0 = model.intercept_\n",
        "b_1 = model.coef_\n",
        "\n",
        "print(\"The intercept is: \", b_0)\n",
        "print(\"The coefficient is: \", b_1)"
      ],
      "metadata": {
        "colab": {
          "base_uri": "https://localhost:8080/"
        },
        "id": "XNRRk8ogYrYG",
        "outputId": "36dbb3cd-b354-41c2-fa3d-7d5530ba0e6a"
      },
      "execution_count": 18,
      "outputs": [
        {
          "output_type": "stream",
          "name": "stdout",
          "text": [
            "The intercept is:  [12680767.54484321]\n",
            "The coefficient is:  [[6831.29011724]]\n"
          ]
        }
      ]
    },
    {
      "cell_type": "markdown",
      "source": [
        "Thus, the equation of the scatter plot is:\n",
        "\n",
        "$y = 12680767.545 + 6831.29x$"
      ],
      "metadata": {
        "id": "5VyeDL2-aROn"
      }
    },
    {
      "cell_type": "markdown",
      "source": [
        "The line equation provides an estimate of the relationship between the two variables. Thus, predictions can now be made."
      ],
      "metadata": {
        "id": "--u5RFo1d2zV"
      }
    },
    {
      "cell_type": "markdown",
      "source": [
        "## Predicting the output\n",
        "To predict the points on the line, we can use predict(x) [start:end] where start and end signifies the range of points to predict."
      ],
      "metadata": {
        "id": "ozk0AXU7fB7j"
      }
    },
    {
      "cell_type": "code",
      "source": [
        "# predicting the first 10 points\n",
        "model.predict(x)[0:10]"
      ],
      "metadata": {
        "colab": {
          "base_uri": "https://localhost:8080/"
        },
        "id": "UXNhmN-3hlBS",
        "outputId": "222a6baa-8083-489c-91b5-ecb925b9c771"
      },
      "execution_count": 19,
      "outputs": [
        {
          "output_type": "execute_result",
          "data": {
            "text/plain": [
              "array([[17995511.25605505],\n",
              "       [15529415.52373182],\n",
              "       [16137400.34416608],\n",
              "       [15870980.02959376],\n",
              "       [15290320.36962846],\n",
              "       [14859949.09224241],\n",
              "       [17312382.24433117],\n",
              "       [15290320.36962846],\n",
              "       [18022836.41652401],\n",
              "       [15331308.11033189]])"
            ]
          },
          "metadata": {},
          "execution_count": 19
        }
      ]
    },
    {
      "cell_type": "markdown",
      "source": [
        "Individual predictions are also possible by substituting a value into x."
      ],
      "metadata": {
        "id": "wpjYdlePhxJB"
      }
    },
    {
      "cell_type": "markdown",
      "source": [
        "## Evaluating the model\n",
        "As mentioned before, to evaluate the performance of the model, we will be using the R2 score and RMSE.\n",
        "\n",
        "### R-Squared\n",
        "R-Squared, or R2, measures the proportion of variance in the dependent variable that can be explained by the independent variable. It also means that R2 measures how well the regression line fits the scatterplot. R2 is measured between 0 and 1."
      ],
      "metadata": {
        "id": "zrYuSeqLj370"
      }
    },
    {
      "cell_type": "code",
      "source": [
        "from sklearn.metrics import r2_score\n",
        "print (\"R2 Score value: {:.4f}\".format(r2_score(y_test, y_predict)))"
      ],
      "metadata": {
        "colab": {
          "base_uri": "https://localhost:8080/"
        },
        "id": "GWufRnNb6y-s",
        "outputId": "3ebc283d-6574-42bc-db21-42d973a9a6f4"
      },
      "execution_count": 20,
      "outputs": [
        {
          "output_type": "stream",
          "name": "stdout",
          "text": [
            "R2 Score value: 0.0305\n"
          ]
        }
      ]
    },
    {
      "cell_type": "markdown",
      "source": [
        "Since we can see that the correlation is very small, that means that there is little to no correlation between the loan amount and the credit score.\n",
        "In context, we can conclude that having a high credit score does not necessarily mean that a higher loan amount will be approved. It varies.\n",
        "\n",
        "We also must keep in mind that there are data points that skew the data. Some of these points are with low amounts yet high credit scores. There are also quite a lot of outliers which makes the data look more uniform."
      ],
      "metadata": {
        "id": "dekLC2ie8QWu"
      }
    },
    {
      "cell_type": "markdown",
      "source": [
        "### RMSE\n",
        "The RMSE (root mean square error) measures the average difference between a statistical model's predicted values and the actual data values. It is the standard deviation of the residuals."
      ],
      "metadata": {
        "id": "tyy-l3PDLLtK"
      }
    },
    {
      "cell_type": "code",
      "source": [
        "# calculating the rmse\n",
        "from sklearn.metrics import mean_squared_error\n",
        "mse = mean_squared_error(y_test, y_predict)\n",
        "rmse = np.sqrt(mse)\n",
        "print(\"RMSE value: {:.4f}\".format(rmse))"
      ],
      "metadata": {
        "colab": {
          "base_uri": "https://localhost:8080/"
        },
        "id": "IVncttp8NEA-",
        "outputId": "1658f091-fb15-4d95-a85a-7c2477ad8047"
      },
      "execution_count": 21,
      "outputs": [
        {
          "output_type": "stream",
          "name": "stdout",
          "text": [
            "RMSE value: 8708943.0949\n"
          ]
        }
      ]
    },
    {
      "cell_type": "markdown",
      "source": [
        "In theory, the lower the RMSE, the lower the differences between the predicted values and the actual values, the better the fit of the line. As we can see, the RMSE of this model is very high, which only supports our inference that the line is not a good fit or that the dataset is way too distributed."
      ],
      "metadata": {
        "id": "eazUqSnJNMQc"
      }
    },
    {
      "cell_type": "markdown",
      "source": [
        "## Plotting the regression line"
      ],
      "metadata": {
        "id": "167AVRhTOUtp"
      }
    },
    {
      "cell_type": "code",
      "source": [
        "# Plotting the regression line\n",
        "\n",
        "plt.scatter(x, y, color = 'blue')\n",
        "plt.plot(x_test, y_predict, color = 'red', linewidth=3)\n",
        "plt.title('Relationship between Accepted Loan Amounts and Credit Scores')\n",
        "plt.xlabel('Credit Scores')\n",
        "plt.ylabel('Loan Amounts (10 million dollars)')\n",
        "plt.show()"
      ],
      "metadata": {
        "colab": {
          "base_uri": "https://localhost:8080/",
          "height": 487
        },
        "id": "KW_lFE4xN6oz",
        "outputId": "e0e0b8f9-94fa-4c6f-e567-8c0954bbca9e"
      },
      "execution_count": 22,
      "outputs": [
        {
          "output_type": "display_data",
          "data": {
            "text/plain": [
              "<Figure size 640x480 with 1 Axes>"
            ],
            "image/png": "[encoded data removed]"
          },
          "metadata": {}
        }
      ]
    },
    {
      "cell_type": "markdown",
      "source": [
        "## Conclusion\n",
        "As we can see from the plotted graph, there is very minimal correlation between the independent and the dependent variables. The line does show a positive correlation, but since the slope is very small, it doesn't necessarily show a strong correlation.\n",
        "\n",
        "### Interpreting R-Squared\n",
        "When R2 is negative, it shows that even when we used the correct data to train the model, it is inapplicable and should not be used. If we simplify the data set to only the first 30 data points, we will find that the R2 would be approximately -0.07, which is why we needed to increase the data set to 99 points. By increasing the size, we can train the model to be more accurate, which actually allows us to increase the values of R2.\n",
        "\n",
        "The reason why we build regression models is to test the correlation between the input and the output variables. Thus, we have a 50/50 chance that the variables will either be correlated or not. Ideally, a good model should have an R2 value of at least 0.7 however, there are exceptions to this rule. A good model can also have a very low R2 value, and a bad model can have a very high value. Thus, it is not the only indicator of success.\n",
        "\n",
        "Since R2 is 0.0305, it means the model is applicable, but the data is too distributed to have a strong relationship. It is generally a positive correlation, but we can definitely increase the number of data points to see if the R2 value increases, thus increasing the accuracy of the model.\n",
        "\n",
        "Due to the scatter plot distribution, it is also hard to say that it is a bad model since the data is too distributed and shows a more uniform distribution. This signifies that the reason for such bad numbers might not be the model itself, but the lack of correlation between the two parameters."
      ],
      "metadata": {
        "id": "Z-8t6LfJOatg"
      }
    },
    {
      "cell_type": "markdown",
      "source": [
        "### Interpreting RMSE\n",
        "The value of RMSE that we found is 8708943.0949, which is a very high score. Due to the fact that the lower this value is, the less variance there is in the residuals, mathematically we can conclude that this regression model is, again, not very accurate.\n",
        "\n",
        "However, by looking at the distribution, we go back to the fact that is dataset is very distributed and doesn't seem to show a big correlation between loan amount and credit score. Thus, there is bound to be a lot of variance between the residuals, the difference between the actual and the predicted points.\n",
        "\n",
        "We must also keep in mind the range of values we have. The credit scores are fine regarding the range, however, the loan amounts are between zero and tens of millions of dollars. Thus, the residuals will also be in their thousands if not millions simply by considering the units of the y-axis.\n",
        "\n",
        "We could theorize that the RMSE value would decrease if we were to simplify the math calculations and divide every loan amount by 10 million while keeping in mind the same units. Although our graph's dependent variables range between 0 and 4, the reality is that the values are more than a million times bigger. So, if we decrease the size of each tick, we can decrease the RMSE value.\n",
        "\n",
        "So let's test this theory."
      ],
      "metadata": {
        "id": "_om0o7W_em-g"
      }
    },
    {
      "cell_type": "code",
      "source": [
        "# decrease the dependent variable\n",
        "y_new = df['Loan Amount'].values / 10000000\n",
        "\n",
        "print(\"New Loan amounts: \", y_new)"
      ],
      "metadata": {
        "colab": {
          "base_uri": "https://localhost:8080/"
        },
        "id": "XRbbJWi6hN40",
        "outputId": "56c03581-ee8c-4313-e71c-d53ef3937e13"
      },
      "execution_count": 24,
      "outputs": [
        {
          "output_type": "stream",
          "name": "stdout",
          "text": [
            "New Loan amounts:  [2.99 1.22 2.97 3.07 2.42 1.35 3.3  1.5  0.22 0.43 1.12 2.27 1.16 3.15\n",
            " 0.74 1.07 0.16 0.94 1.03 1.46 1.94 1.4  2.57 0.14 0.98 0.95 2.81 0.56\n",
            " 2.4  3.15 2.53 1.2  0.16 2.2  1.19 0.34 0.62 2.72 0.77 0.51 1.81 2.49\n",
            " 0.34 0.23 1.34 2.78 1.46 1.91 2.05 1.91 2.54 2.47 0.76 2.3  1.97 2.45\n",
            " 1.06 3.05 1.84 1.82 1.89 3.05 2.89 0.75 1.23 1.03 2.91 1.01 1.24 0.5\n",
            " 0.15 1.86 1.83 1.67 0.84 0.65 1.48 3.35 2.94 0.14 0.89 3.12 2.12 0.86\n",
            " 0.82 2.12 0.38 2.83 0.8  3.76 2.11 2.07 0.89 0.64 0.2  0.11 1.5  2.5\n",
            " 2.94]\n"
          ]
        }
      ]
    },
    {
      "cell_type": "code",
      "source": [
        "# reshape the list\n",
        "y_new = y_new.reshape(-1, 1)\n",
        "\n",
        "# plot the scatter plot\n",
        "plt.scatter(x, y_new, color = 'blue')\n",
        "plt.title('Relationship between Accepted Loan Amounts and Credit Scores')\n",
        "plt.xlabel('Credit Scores')\n",
        "plt.ylabel('Loan Amounts (10 million dollars)')\n",
        "plt.show()"
      ],
      "metadata": {
        "colab": {
          "base_uri": "https://localhost:8080/",
          "height": 472
        },
        "id": "eiKd3G8YiJAJ",
        "outputId": "4f68c0a3-aab4-4495-b75f-3a557d6343c7"
      },
      "execution_count": 27,
      "outputs": [
        {
          "output_type": "display_data",
          "data": {
            "text/plain": [
              "<Figure size 640x480 with 1 Axes>"
            ],
            "image/png": "[encoded data removed]"
          },
          "metadata": {}
        }
      ]
    },
    {
      "cell_type": "code",
      "source": [
        "# splitting the two sets\n",
        "x_train, x_test, y_train, y_test = train_test_split(x, y_new, test_size=0.33, random_state=42)\n",
        "\n",
        "model = LinearRegression()\n",
        "model.fit(x_train, y_train)\n",
        "\n",
        "# predict the output using the model\n",
        "y_predict = model.predict(x_test)\n",
        "\n",
        "b_0 = model.intercept_\n",
        "b_1 = model.coef_\n",
        "\n",
        "print(\"The intercept is: \", b_0)\n",
        "print(\"The coefficient is: \", b_1)\n",
        "\n",
        "print (\"R2 Score value: {:.4f}\".format(r2_score(y_test, y_predict)))\n",
        "\n",
        "mse = mean_squared_error(y_test, y_predict)\n",
        "rmse = np.sqrt(mse)\n",
        "print(\"RMSE value: {:.4f}\".format(rmse))"
      ],
      "metadata": {
        "colab": {
          "base_uri": "https://localhost:8080/"
        },
        "id": "N7GdXfPvii53",
        "outputId": "c9a08f32-c0ec-41ff-84f9-36d053f1cc18"
      },
      "execution_count": 28,
      "outputs": [
        {
          "output_type": "stream",
          "name": "stdout",
          "text": [
            "The intercept is:  [1.26807675]\n",
            "The coefficient is:  [[0.00068313]]\n",
            "R2 Score value: 0.0305\n",
            "RMSE value: 0.8709\n"
          ]
        }
      ]
    },
    {
      "cell_type": "code",
      "source": [
        "# Plotting the \"new\" regression line\n",
        "\n",
        "plt.scatter(x, y_new, color = 'blue')\n",
        "plt.plot(x_test, y_predict, color = 'red', linewidth=3)\n",
        "plt.title('Relationship between Accepted Loan Amounts and Credit Scores')\n",
        "plt.xlabel('Credit Scores')\n",
        "plt.ylabel('Loan Amounts (10 million dollars)')\n",
        "plt.show()"
      ],
      "metadata": {
        "colab": {
          "base_uri": "https://localhost:8080/",
          "height": 472
        },
        "id": "onFouOiXjGST",
        "outputId": "6d5e1df9-327a-47fb-d960-73ad34ca928c"
      },
      "execution_count": 29,
      "outputs": [
        {
          "output_type": "display_data",
          "data": {
            "text/plain": [
              "<Figure size 640x480 with 1 Axes>"
            ],
            "image/png": "[encoded data removed]"
          },
          "metadata": {}
        }
      ]
    },
    {
      "cell_type": "markdown",
      "source": [
        "This proves our theory. As we can see, by decreasing all dependent values by the same factor, we did not affect any parts of the math except for the RMSE value which is now 0.8709. The same factor of 10 million would be a lot more effective if we simply divided the old RMSE by it.\n",
        "\n",
        "Since the residuals only involve the vertical distance, the division to the y-axis would also apply to the residuals. Thus, the RMSE value is very relative to the range of the dependent variable. However, the lower this value is the better since 0 would signify that all data points are on the regression line which is far from this case. Due to our distribution, we can't help but have relatively large RMSE values."
      ],
      "metadata": {
        "id": "jaLpJhz7jMI_"
      }
    },
    {
      "cell_type": "markdown",
      "source": [
        "## References\n",
        "\n",
        "   i. https://www.geeksforgeeks.org/linear-regression-python-implementation/\n",
        "\n",
        "   ii. https://www.ncl.ac.uk/webtemplate/ask-assets/external/maths-resources/statistics/regression-and-correlation/simple-linear-regression.html\n",
        "\n",
        "   iii. https://www.kaggle.com/code/sudhirnl7/linear-regression-tutorial\n",
        "\n",
        "   iv. https://medium.com/@shuv.sdr/simple-linear-regression-in-python-a0069b325bf8\n",
        "\n",
        "   v. https://www.geeksforgeeks.org/assumptions-of-linear-regression/\n",
        "\n",
        "   vi. https://corporatefinanceinstitute.com/resources/data-science/r-squared/#:~:text=R%2DSquared%20(R%C2%B2%20or%20the,(the%20goodness%20of%20fit).\n",
        "\n",
        "   vii. https://statisticsbyjim.com/regression/root-mean-square-error-rmse/\n",
        "\n",
        "   viii. https://github.com/pb111/Simple-Linear-Regression-Project/blob/master/SLRProject.ipynb\n",
        "\n",
        "   "
      ],
      "metadata": {
        "id": "FicLkDuG0q6h"
      }
    }
  ]
}