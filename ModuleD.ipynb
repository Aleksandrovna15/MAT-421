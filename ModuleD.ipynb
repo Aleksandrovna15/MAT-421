{
  "nbformat": 4,
  "nbformat_minor": 0,
  "metadata": {
    "colab": {
      "provenance": [],
      "authorship_tag": "ABX9TyPgUfOns89/sed9nmdGqvBn",
      "include_colab_link": true
    },
    "kernelspec": {
      "name": "python3",
      "display_name": "Python 3"
    },
    "language_info": {
      "name": "python"
    }
  },
  "cells": [
    {
      "cell_type": "markdown",
      "metadata": {
        "id": "view-in-github",
        "colab_type": "text"
      },
      "source": [
        "<a href=\"https://colab.research.google.com/github/Aleksandrovna15/MAT-421/blob/main/ModuleD.ipynb\" target=\"_parent\"><img src=\"https://colab.research.google.com/assets/colab-badge.svg\" alt=\"Open In Colab\"/></a>"
      ]
    },
    {
      "cell_type": "markdown",
      "source": [
        "**Module D - Alisa Fedorova**"
      ],
      "metadata": {
        "id": "dgR1d8dVicXd"
      }
    },
    {
      "cell_type": "markdown",
      "source": [
        "1.1 Introduction to Linear Algebra\n",
        "*   Linear Algebra is widely used in various fields including data science and machine learning.\n",
        "*   It mainly deals with concept related to matrix and vector mathematics."
      ],
      "metadata": {
        "id": "Mt5Q05WXjHkz"
      }
    },
    {
      "cell_type": "code",
      "source": [
        "import numpy as np\n",
        "\n",
        "# a way to set up a vector in Python\n",
        "vector_row = np.array([[1, 5, 2, 0, -6, -3]])\n",
        "vector_column = np.array([[1], [2], [3], [4], [5]])\n",
        "\n",
        "# vectors, like matrices, have dimentions except that vectors will always have one of their dimentions as one\n",
        "print(\"Shape of vector row   : \", vector_row.shape)\n",
        "print(\"Shape of vector column: \", vector_column.shape)\n",
        "\n",
        "#we can perform many operations with them like mutiplication\n",
        "# Calculating the cross product of two arrays\n",
        "v = np.array([[5, -3, 1]])\n",
        "w = np.array([[-9, -1, 2]])\n",
        "\n",
        "print(\"Cross Product of V and W: \" , np.cross(v, w))"
      ],
      "metadata": {
        "colab": {
          "base_uri": "https://localhost:8080/"
        },
        "id": "G8NJrb-H6On7",
        "outputId": "c0cc5d65-a991-4f70-d82b-65ff4e117ab1"
      },
      "execution_count": 3,
      "outputs": [
        {
          "output_type": "stream",
          "name": "stdout",
          "text": [
            "Shape of vector row   :  (1, 6)\n",
            "Shape of vector column:  (5, 1)\n",
            "Cross Product of V and W:  [[ -5 -19 -32]]\n"
          ]
        }
      ]
    },
    {
      "cell_type": "markdown",
      "source": [
        "Matrices are just many vectors combined whether it be a combination of rows or columns. Thus, while following certain rules like dimention limitations, we can perform same operations with matrices."
      ],
      "metadata": {
        "id": "AjBiFz_f8fLX"
      }
    },
    {
      "cell_type": "markdown",
      "source": [
        "1.2 Elements of Linear Algebra\n",
        "*   Linear combination: a new vector constructed from a subset by multiplying each vector by a constant and adding the results.\n",
        "*   Linear subspace: a result of linear combination, A subset U ⊆ V that is closed under vector addition and scalar multiplication\n",
        "   *   for all u1, u2 ∈ U and A ∈ R, u1 + u2 ∈ U, and\n",
        "A u1 ∈ U."
      ],
      "metadata": {
        "id": "jAbfSHmQ81S-"
      }
    },
    {
      "cell_type": "code",
      "source": [
        "import numpy as np\n",
        "\n",
        "# linear combination\n",
        "v = np.array([[0, 3, 2]])\n",
        "w = np.array([[4, 1, 1]])\n",
        "u = np.array([[0, -2, 0]])\n",
        "x = 3*v-2*w+4*u\n",
        "print(x)"
      ],
      "metadata": {
        "colab": {
          "base_uri": "https://localhost:8080/"
        },
        "id": "ArxC9fP5nhrh",
        "outputId": "95e9a4e7-82a6-46c7-d966-c46fe329b7ce"
      },
      "execution_count": 2,
      "outputs": [
        {
          "output_type": "stream",
          "name": "stdout",
          "text": [
            "[[-8 -1  4]]\n"
          ]
        }
      ]
    },
    {
      "cell_type": "markdown",
      "source": [
        "*   Span: the set of all linear combinations, also refered to as spanning set.\n",
        "*   Column space: If matrix A is declared, the column space of A is the span of the columns of A. Denoted as col(A).\n",
        "*   Linear independence: A list of vectors is linearly independent of none of them can be written as a linear combination of the others (like one vector being a multiple of another).\n",
        "    *   A list of vectors is called linearly dependent of it is not linearly independent."
      ],
      "metadata": {
        "id": "UCVWlUmGopbl"
      }
    },
    {
      "cell_type": "code",
      "source": [
        "# If we have a square matrix, then we can use the determinant of the matrix to find out if it is independent or not\n",
        "# if the determinant is 0 it it dependent, otherwise independent.\n",
        "\n",
        "A=np.array([[9, -9, 0], [4, 1, 7], [6, -1, 12]])\n",
        "print(np.linalg.det(A))"
      ],
      "metadata": {
        "colab": {
          "base_uri": "https://localhost:8080/"
        },
        "id": "THsTSpdVrsjr",
        "outputId": "e9601f45-5a85-4895-e7fd-a7df3ddf7f0f"
      },
      "execution_count": 3,
      "outputs": [
        {
          "output_type": "stream",
          "name": "stdout",
          "text": [
            "225.0\n"
          ]
        }
      ]
    },
    {
      "cell_type": "markdown",
      "source": [
        "Dimension Theorem\n",
        "*   Let U be a linear subspace of V. Any basis of U always has the same number of elements. All bases of U have the same length, that is, the same number of elements. We call this number the dimension of U and denote it dim(U)."
      ],
      "metadata": {
        "id": "NvAHrGfrsiJ5"
      }
    },
    {
      "cell_type": "markdown",
      "source": [
        "*   Orthonormal Bases: A list of vectors is orthonormal if the vectors are pairwise orthogonal and each has norm 1.\n",
        "    *   norm = ⟨u, v⟩ = u · v"
      ],
      "metadata": {
        "id": "6HZZKF_dtPVm"
      }
    },
    {
      "cell_type": "code",
      "source": [
        "# we can find the norm using python\n",
        "import numpy as np\n",
        "vector_row = np.array([[1, -5, 3, 2, 4]])\n",
        "vector_column = np.array([[1],\n",
        "                          [2],\n",
        "                          [3],\n",
        "                          [4]])\n",
        "print(vector_row.shape)\n",
        "print(vector_column.shape)"
      ],
      "metadata": {
        "colab": {
          "base_uri": "https://localhost:8080/"
        },
        "id": "VTrIXafgt5Rs",
        "outputId": "3f339c12-7a07-4144-f079-b8152a2d2d6f"
      },
      "execution_count": 4,
      "outputs": [
        {
          "output_type": "stream",
          "name": "stdout",
          "text": [
            "(1, 5)\n",
            "(4, 1)\n"
          ]
        }
      ]
    },
    {
      "cell_type": "markdown",
      "source": [
        "*   Best Approximation Theorem: Let U ⊆ V be a linear subspace with orthonormal basis and v ∊ V. For any u ∊ U: ||v-Pu v|| <= ||v-u||\n",
        "*   Pythagorean Theorem: Let u, v ∈ V be orthogonal. Then ∥u+v∥^2 = ∥u∥^2 + ∥v∥^2\n",
        "*   Eigenvalues and Eigenvectors\n",
        "    *   Where A is n×n matrix, x is n×1 column vector (X≠0), and λ is some scalar. Any λ that satisfies the Ax = λx equation is known as an eigenvalue of the matrix A, while the associated vector x is called an eigenvector corresponding to λ.\n"
      ],
      "metadata": {
        "id": "v5SF0k9JvHT0"
      }
    },
    {
      "cell_type": "code",
      "source": [
        "import numpy as np\n",
        "from numpy.linalg import eig\n",
        "a = np.array([[0, 2],\n",
        "              [2, 3]])\n",
        "w,v=eig(a)\n",
        "print('E-value:', w)\n",
        "print('E-vector', v)"
      ],
      "metadata": {
        "colab": {
          "base_uri": "https://localhost:8080/"
        },
        "id": "0vVN_4qqyJ3F",
        "outputId": "064dddf2-621e-4941-fda8-8e4c2e543c20"
      },
      "execution_count": 5,
      "outputs": [
        {
          "output_type": "stream",
          "name": "stdout",
          "text": [
            "E-value: [-1.  4.]\n",
            "E-vector [[-0.89442719 -0.4472136 ]\n",
            " [ 0.4472136  -0.89442719]]\n"
          ]
        }
      ]
    },
    {
      "cell_type": "markdown",
      "source": [
        "1.3 Linear Regression\n",
        "*   QR decomposition is a useful procedure to solve the linear least squares\n",
        "problem."
      ],
      "metadata": {
        "id": "ndLzZI5lyPg9"
      }
    },
    {
      "cell_type": "code",
      "source": [
        "import numpy as np\n",
        "from numpy.linalg import qr\n",
        "\n",
        "a = np.array([[1, 5, -1],\n",
        "              [2, 3, 5],\n",
        "              [6, 9, 0]])\n",
        "p = [1, 5, 10, 20]\n",
        "\n",
        "# Eigenvalues will eventually converge\n",
        "for i in range(20):\n",
        "    q, r = qr(a)\n",
        "    a = np.dot(r, q)\n",
        "    if i+1 in p:\n",
        "        print(f'Iteration {i+1}:')\n",
        "        print(a)"
      ],
      "metadata": {
        "colab": {
          "base_uri": "https://localhost:8080/"
        },
        "id": "9Tuw8d8R0Fi2",
        "outputId": "6bb6919f-68c7-422d-fa8f-a5e2cac90bcf"
      },
      "execution_count": 7,
      "outputs": [
        {
          "output_type": "stream",
          "name": "stdout",
          "text": [
            "Iteration 1:\n",
            "[[ 5.48780488 -5.61497106  9.18588525]\n",
            " [ 0.07712872  0.01219512 -3.6700834 ]\n",
            " [ 4.44478318  0.70278193 -1.5       ]]\n",
            "Iteration 5:\n",
            "[[ 9.78877379  1.06211496  6.63204595]\n",
            " [ 0.19461677 -2.66412972 -4.89319541]\n",
            " [-0.03460202  0.47367069 -3.12464407]]\n",
            "Iteration 10:\n",
            "[[ 9.79234581e+00 -2.37181505e+00  6.19511859e+00]\n",
            " [-9.89314513e-04 -3.73385165e+00  4.85121608e+00]\n",
            " [-1.65809166e-04 -6.25793737e-01 -2.05849416e+00]]\n",
            "Iteration 20:\n",
            "[[ 9.79246615e+00 -2.73482821e+00 -6.04298059e+00]\n",
            " [-2.04764436e-09 -7.74879063e-01  3.55500762e+00]\n",
            " [-5.08027439e-09 -1.92250097e+00 -5.01758709e+00]]\n"
          ]
        }
      ]
    },
    {
      "cell_type": "markdown",
      "source": [
        "*   Least Square Regression: finding the parameters of the estimation function that minimize the total squared error"
      ],
      "metadata": {
        "id": "PST5kwUH0bbz"
      }
    },
    {
      "cell_type": "code",
      "source": [
        "import numpy as np\n",
        "from scipy import optimize\n",
        "import matplotlib.pyplot as plt\n",
        "\n",
        "# generate x and y\n",
        "x = np.linspace(0, 1, 101)\n",
        "y = 1 + x + x * np.random.random(len(x))\n",
        "\n",
        "# assemble matrix A\n",
        "A = np.vstack([x, np.ones(len(x))]).T\n",
        "\n",
        "# turn y into a column vector\n",
        "y = y[:, np.newaxis]\n",
        "\n",
        "# Direct least square regression\n",
        "alpha = np.dot((np.dot(np.linalg.inv(np.dot(A.T,A)),A.T)),y)\n",
        "print(alpha)\n",
        "\n",
        "# plot the results\n",
        "plt.figure(figsize = (10,8))\n",
        "plt.plot(x, y, 'b.')\n",
        "plt.plot(x, alpha[0]*x + alpha[1], 'r')\n",
        "plt.xlabel('x')\n",
        "plt.ylabel('y')\n",
        "plt.show()"
      ],
      "metadata": {
        "colab": {
          "base_uri": "https://localhost:8080/",
          "height": 731
        },
        "id": "uDSN8Y_I1Jue",
        "outputId": "ca83adb2-dd90-4d3b-aa20-532954cd028d"
      },
      "execution_count": 9,
      "outputs": [
        {
          "output_type": "stream",
          "name": "stdout",
          "text": [
            "[[1.57375762]\n",
            " [0.97861023]]\n"
          ]
        },
        {
          "output_type": "display_data",
          "data": {
            "text/plain": [
              "<Figure size 1000x800 with 1 Axes>"
            ],
            "image/png": "[encoded data removed]"
          },
          "metadata": {}
        }
      ]
    }
  ]
}