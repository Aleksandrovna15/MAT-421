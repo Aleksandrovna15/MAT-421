{
  "nbformat": 4,
  "nbformat_minor": 0,
  "metadata": {
    "colab": {
      "provenance": [],
      "authorship_tag": "ABX9TyPvxkbi4XGT2l9FiY+5VDBF",
      "include_colab_link": true
    },
    "kernelspec": {
      "name": "python3",
      "display_name": "Python 3"
    },
    "language_info": {
      "name": "python"
    }
  },
  "cells": [
    {
      "cell_type": "markdown",
      "metadata": {
        "id": "view-in-github",
        "colab_type": "text"
      },
      "source": [
        "<a href=\"https://colab.research.google.com/github/Aleksandrovna15/MAT-421/blob/main/ModuleG_1.ipynb\" target=\"_parent\"><img src=\"https://colab.research.google.com/assets/colab-badge.svg\" alt=\"Open In Colab\"/></a>"
      ]
    },
    {
      "cell_type": "markdown",
      "source": [
        "## Module G Part 1 - Alisa Fedorova"
      ],
      "metadata": {
        "id": "u7BB4ZXFJ4XW"
      }
    },
    {
      "cell_type": "markdown",
      "source": [
        "21.1 Numerical Integration Problem Statement\n",
        "*   To approximate the interval of f(x) on an interval [a,b], we assume that the interval is discretized into a numerical grid consisting of n+1 points from x_0 to x_n.\n",
        "*   Subinterval = [x_i, x_i+1]\n",
        "*   The integral approximates the area under f(x) and is the sum of all subintervals."
      ],
      "metadata": {
        "id": "A_Z5tj6pfTbv"
      }
    },
    {
      "cell_type": "markdown",
      "source": [
        "21.2 Riemanns Integral\n",
        "*   Riemann summation involves the sum of rectangles with the width of x_i+1 - x_i = h and the height defined by f(x)\n",
        "*   The total error of the reimann integral is defined as O(h) over an arbitrary interval.\n",
        "*   This shows how decreasing the width of the rectangles will yield less error and can therefore be more accurate.\n",
        "* Midpoint rule: takes the rectangle height of the rectangle at each subinterval to be the function value at the midpoint between x_i\n",
        " and x_i+1\n",
        "\n",
        "∫f(x)dx ≈ ∑h*f(yi) where yi = [xi+1 + xi] / 2\n"
      ],
      "metadata": {
        "id": "GGGNr67EnhKL"
      }
    },
    {
      "cell_type": "code",
      "source": [
        "import numpy as np\n",
        "\n",
        "a = 0\n",
        "b = np.pi\n",
        "n = 11\n",
        "h = (b - a) / (n - 1)\n",
        "x = np.linspace(a, b, n)\n",
        "f = np.sin(x)\n",
        "\n",
        "I_riemannL = h * sum(f[:n-1])\n",
        "err_riemannL = 2 - I_riemannL\n",
        "\n",
        "I_riemannR = h * sum(f[1::])\n",
        "err_riemannR = 2 - I_riemannR\n",
        "\n",
        "I_mid = h * sum(np.sin((x[:n-1] \\\n",
        "        + x[1:])/2))\n",
        "err_mid = 2 - I_mid\n",
        "\n",
        "print(I_riemannL)\n",
        "print(err_riemannL)\n",
        "\n",
        "print(I_riemannR)\n",
        "print(err_riemannR)\n",
        "\n",
        "print(I_mid)\n",
        "print(err_mid)"
      ],
      "metadata": {
        "colab": {
          "base_uri": "https://localhost:8080/"
        },
        "id": "IzZEdiznxtqr",
        "outputId": "eeb7c39d-938d-43b0-ad95-e0665cd09248"
      },
      "execution_count": 1,
      "outputs": [
        {
          "output_type": "stream",
          "name": "stdout",
          "text": [
            "1.9835235375094546\n",
            "0.01647646249054535\n",
            "1.9835235375094546\n",
            "0.01647646249054535\n",
            "2.0082484079079745\n",
            "-0.008248407907974542\n"
          ]
        }
      ]
    },
    {
      "cell_type": "markdown",
      "source": [
        "21.3 Trapezoid Rule\n",
        "*   Fits a trapezoid into each subinterval and sums the areas of the trapezoid to approximate the total integral\n",
        "*   For each subinterval, the Trapezoid Rule computes the area of a trapezoid with corners at (xi,0),(xi+1,0),(xi,f(xi)), and (xi+1,f(xi+1)), which is\n",
        "h(f(x_i)+f(x_i+1))/2"
      ],
      "metadata": {
        "id": "7SRI5MvJx7-N"
      }
    },
    {
      "cell_type": "code",
      "source": [
        "import numpy as np\n",
        "\n",
        "a = 0\n",
        "b = np.pi\n",
        "n = 11\n",
        "h = (b - a) / (n - 1)\n",
        "x = np.linspace(a, b, n)\n",
        "f = np.sin(x)\n",
        "\n",
        "I_trap = (h/2)*(f[0] + \\\n",
        "          2 * sum(f[1:n-1]) + f[n-1])\n",
        "err_trap = 2 - I_trap\n",
        "\n",
        "print(I_trap)\n",
        "print(err_trap)"
      ],
      "metadata": {
        "colab": {
          "base_uri": "https://localhost:8080/"
        },
        "id": "VnPOGs1eyhq6",
        "outputId": "71e90dad-ffd2-45d7-98be-990b6b21a3d9"
      },
      "execution_count": 2,
      "outputs": [
        {
          "output_type": "stream",
          "name": "stdout",
          "text": [
            "1.9835235375094546\n",
            "0.01647646249054535\n"
          ]
        }
      ]
    }
  ]
}