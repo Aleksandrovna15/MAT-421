{
  "nbformat": 4,
  "nbformat_minor": 0,
  "metadata": {
    "colab": {
      "provenance": [],
      "authorship_tag": "ABX9TyM1ETJMXaKxXOB/haivn21s",
      "include_colab_link": true
    },
    "kernelspec": {
      "name": "python3",
      "display_name": "Python 3"
    },
    "language_info": {
      "name": "python"
    }
  },
  "cells": [
    {
      "cell_type": "markdown",
      "metadata": {
        "id": "view-in-github",
        "colab_type": "text"
      },
      "source": [
        "<a href=\"https://colab.research.google.com/github/Aleksandrovna15/MAT-421/blob/main/ModuleC.ipynb\" target=\"_parent\"><img src=\"https://colab.research.google.com/assets/colab-badge.svg\" alt=\"Open In Colab\"/></a>"
      ]
    },
    {
      "cell_type": "markdown",
      "source": [
        "**Module C - Alisa Fedorova**"
      ],
      "metadata": {
        "id": "APrKqIoP3cd4"
      }
    },
    {
      "cell_type": "markdown",
      "source": [
        "19.1 Root Finding Prioblem Statement\n",
        "*   Finding roots of regular polynomials is relatively simple to find if you use prooven formulas like the quadratic formula. However, when dealing with complex functions, we need to use other methods.\n",
        "*   For these cases, we can use numerical approximation of roots of f(x).\n",
        "*   The root or zero of f(x) is x_r where f(x_r) = 0.\n"
      ],
      "metadata": {
        "id": "7p_32-E_4A9N"
      }
    },
    {
      "cell_type": "code",
      "source": [
        "import numpy as np\n",
        "from scipy import optimize\n",
        "\n",
        "f = lambda x: np.sin(x) - x\n",
        "r = optimize.fsolve(f, 3)\n",
        "print(\"r =\", r)\n",
        "\n",
        "# Verify the solution is a root\n",
        "result = f(r)\n",
        "print(\"result=\", result)"
      ],
      "metadata": {
        "colab": {
          "base_uri": "https://localhost:8080/"
        },
        "id": "1XtJAg45952v",
        "outputId": "b13a539f-1bbd-46ce-9750-3574a87fedf6"
      },
      "execution_count": 3,
      "outputs": [
        {
          "output_type": "stream",
          "name": "stdout",
          "text": [
            "r = [1.78460158e-08]\n",
            "result= [0.]\n"
          ]
        }
      ]
    },
    {
      "cell_type": "markdown",
      "source": [
        "Some functions won't have any roots so full_output will cap the code at 400 runs."
      ],
      "metadata": {
        "id": "k3m-T6Vu-LIw"
      }
    },
    {
      "cell_type": "code",
      "source": [
        "f = lambda x: 1/(x**3)\n",
        "\n",
        "r, infodict, ier, mesg = optimize.fsolve(f, -2, full_output=True)\n",
        "print(\"r =\", r)\n",
        "\n",
        "result = f(r)\n",
        "print(\"result=\", result)\n",
        "\n",
        "print(mesg)"
      ],
      "metadata": {
        "colab": {
          "base_uri": "https://localhost:8080/"
        },
        "id": "_E8egeSf-Zbu",
        "outputId": "fc5406ee-6dfd-4f6b-d80d-ef24f05d067c"
      },
      "execution_count": 5,
      "outputs": [
        {
          "output_type": "stream",
          "name": "stdout",
          "text": [
            "r = [-6.3981792e+34]\n",
            "result= [-3.81795496e-105]\n",
            "The number of calls to function has reached maxfev = 400.\n"
          ]
        }
      ]
    },
    {
      "cell_type": "markdown",
      "source": [
        "19.2 Tolerance\n",
        "*   Tolerance is the level of error, deviation from expected value, that is acceptable for an application.\n",
        "*   A computer program has converged to a solution when it has found a solution with an error smaller than the tolerance.\n",
        "*   The closer |f(x)| is to zero, the more likely that x is a root.\n",
        "*   If i is the number of the guess, then we can use |x_(i+1) - x_i| to measure the error.\n",
        "*   "
      ],
      "metadata": {
        "id": "VDe1D_OS-tbk"
      }
    },
    {
      "cell_type": "markdown",
      "source": [
        "19.3 Bisection Method\n",
        "*   The Intermediate Value Theorem states that if f(x) is continuous between a and b, and sign(f(a)) not = sign(f(b)), then there must be a c, such that a < c < b and f(c) = 0.\n",
        "*   The Bisection method uses the Intermediate Value Theorem to find roots.\n",
        "*   If f(x) is continuous and f(a) > 0 and f(b) < 0, then there must be a root withing the interval a to b.\n",
        "*   If the midpoint is within tolerance, it is declared the root\n",
        "*   If the midpoint is outside tolerance and positive, it becomes the new a\n",
        "*   If the midpoint is outside tolerance and negative, it becomes the new b"
      ],
      "metadata": {
        "id": "17GEP_VcU6_L"
      }
    },
    {
      "cell_type": "code",
      "source": [
        "import numpy as np\n",
        "\n",
        "def my_bisection(f, a, b, tol):\n",
        "    # approximates a root, R, of f bounded\n",
        "    # by a and b to within tolerance\n",
        "    # | f(m) | < tol with m the midpoint\n",
        "    # between a and b Recursive implementation\n",
        "\n",
        "    # check if a and b bound a root\n",
        "    if np.sign(f(a)) == np.sign(f(b)):\n",
        "        raise Exception(\n",
        "         \"The scalars a and b do not bound a root\")\n",
        "\n",
        "    # get midpoint\n",
        "    m = (a + b)/2\n",
        "\n",
        "    if np.abs(f(m)) < tol:\n",
        "        # stopping condition, report m as root\n",
        "        return m\n",
        "    elif np.sign(f(a)) == np.sign(f(m)):\n",
        "        # case where m is an improvement on a.\n",
        "        # Make recursive call with a = m\n",
        "        return my_bisection(f, m, b, tol)\n",
        "    elif np.sign(f(b)) == np.sign(f(m)):\n",
        "        # case where m is an improvement on b.\n",
        "        # Make recursive call with b = m\n",
        "        return my_bisection(f, a, m, tol)\n",
        "\n",
        "f = lambda x: x**2 - 2\n",
        "\n",
        "r1 = my_bisection(f, 0, 2, 0.1)\n",
        "print(\"r1 =\", r1)\n",
        "r01 = my_bisection(f, 0, 2, 0.01)\n",
        "print(\"r01 =\", r01)\n",
        "\n",
        "print(\"f(r1) =\", f(r1))\n",
        "print(\"f(r01) =\", f(r01))\n",
        "\n",
        "#my_bisection(f, 2, 4, 0.01)"
      ],
      "metadata": {
        "colab": {
          "base_uri": "https://localhost:8080/"
        },
        "id": "TYJG__jBYQcw",
        "outputId": "0efaac82-1df2-4d78-aca9-f442336f6012"
      },
      "execution_count": 4,
      "outputs": [
        {
          "output_type": "stream",
          "name": "stdout",
          "text": [
            "r1 = 1.4375\n",
            "r01 = 1.4140625\n",
            "f(r1) = 0.06640625\n",
            "f(r01) = -0.00042724609375\n"
          ]
        }
      ]
    },
    {
      "cell_type": "markdown",
      "source": [
        "19.4 Newton-Raphson Method\n",
        "*   Newton step computes an improved guess x_i, using previous guess x_(i-1), and is given by the equation: x_i = x_(i-1) - g(x_(i-1))/ g'(x_(i-1))\n",
        "*   Newton-Raphon Method of finding roots iterates Newton steps from x_0 until the error is less than the tolerance."
      ],
      "metadata": {
        "id": "TlFmRER9ZAC_"
      }
    },
    {
      "cell_type": "code",
      "source": [
        "import numpy as np\n",
        "\n",
        "f = lambda x: x**2 - 2\n",
        "f_prime = lambda x: 2*x\n",
        "newton_raphson = 1.4 - (f(1.4))/(f_prime(1.4))\n",
        "\n",
        "print(\"newton_raphson =\", newton_raphson)\n",
        "print(\"sqrt(2) =\", np.sqrt(2))\n",
        "\n",
        "def my_newton(f, df, x0, tol):\n",
        "    # output is an estimation of the root of f\n",
        "    # using the Newton Raphson method\n",
        "    # recursive implementation\n",
        "    if abs(f(x0)) < tol:\n",
        "        return x0\n",
        "    else:\n",
        "        return my_newton(f, df, x0 - f(x0)/df(x0), tol)\n",
        "\n",
        "estimate = my_newton(f, f_prime, 1.5, 1e-6)\n",
        "print(\"estimate =\", estimate)\n",
        "print(\"sqrt(2) =\", np.sqrt(2))"
      ],
      "metadata": {
        "colab": {
          "base_uri": "https://localhost:8080/"
        },
        "id": "p3ZX1oD_anNr",
        "outputId": "cc2bb614-8ae1-4ba9-ad07-35495ee0ca80"
      },
      "execution_count": 5,
      "outputs": [
        {
          "output_type": "stream",
          "name": "stdout",
          "text": [
            "newton_raphson = 1.4142857142857144\n",
            "sqrt(2) = 1.4142135623730951\n",
            "estimate = 1.4142135623746899\n",
            "sqrt(2) = 1.4142135623730951\n"
          ]
        }
      ]
    },
    {
      "cell_type": "markdown",
      "source": [
        "19.5 Root Finding in Pyton\n",
        "*   In Python, we can use f_solve function from scipy.optimize which takes in many arguments that you find in documentation."
      ],
      "metadata": {
        "id": "E2s-1i7Va10C"
      }
    },
    {
      "cell_type": "code",
      "source": [
        "from scipy.optimize import fsolve\n",
        "\n",
        "f = lambda x: x**3-100*x**2-x+100\n",
        "\n",
        "fsolve(f, [2, 80])"
      ],
      "metadata": {
        "colab": {
          "base_uri": "https://localhost:8080/"
        },
        "id": "NrZiN0QjbKxU",
        "outputId": "6bd1a283-41b9-4921-fce4-9d15730775fa"
      },
      "execution_count": 6,
      "outputs": [
        {
          "output_type": "execute_result",
          "data": {
            "text/plain": [
              "array([  1., 100.])"
            ]
          },
          "metadata": {},
          "execution_count": 6
        }
      ]
    },
    {
      "cell_type": "markdown",
      "source": [
        "This translates to two roots x = 1 and x = 100"
      ],
      "metadata": {
        "id": "bwloMHZrbPTK"
      }
    }
  ]
}