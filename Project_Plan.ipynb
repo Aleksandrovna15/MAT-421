{
  "nbformat": 4,
  "nbformat_minor": 0,
  "metadata": {
    "colab": {
      "provenance": [],
      "authorship_tag": "ABX9TyOMBGWN6rfwnm8ni+dah96I",
      "include_colab_link": true
    },
    "kernelspec": {
      "name": "python3",
      "display_name": "Python 3"
    },
    "language_info": {
      "name": "python"
    }
  },
  "cells": [
    {
      "cell_type": "markdown",
      "metadata": {
        "id": "view-in-github",
        "colab_type": "text"
      },
      "source": [
        "<a href=\"https://colab.research.google.com/github/Aleksandrovna15/MAT-421/blob/main/Project_Plan.ipynb\" target=\"_parent\"><img src=\"https://colab.research.google.com/assets/colab-badge.svg\" alt=\"Open In Colab\"/></a>"
      ]
    },
    {
      "cell_type": "markdown",
      "source": [
        "# MAT 421 Project Plan\n",
        "## Alisa Fedorova\n",
        "\n",
        "###Introduction\n",
        "\n",
        "A statistical method for determining the linear relationship between a dependent variable and one or more independent variables is called linear regression.  This method can be used to predict a continuous variable in supervised learning regression situations.\n",
        "\n",
        "Simple and multiple linear regression are the two subtypes of linear regression.  I have one independent variable and one dependent variable in this project, and I use the Simple Linear Regression approach.  Fitting a straight line to the data is the most basic type of linear regression.\n",
        "\n",
        "This work is to create a basic linear regression model based on a single important parameter, such income or credit score, to forecast loan acceptance chances.  The dataset used for this project is sourced from Kaggle: Loan Approval Prediction Dataset. This study is relevant since it offers a straightforward but efficient instrument for loan approval prediction that can be readily understood and used. Machine learning models allow one to automate this procedure, hence improving efficiency, lowering bias, and increasing decision accuracy.\n",
        "\n",
        "**Kaggle link to the dataset:** https://www.kaggle.com/datasets/architsharma01/loan-approval-prediction-dataset\n",
        "\n",
        "Financial institutions must make important decisions about the loan approval process since it has a direct effect on their profitability and risk management.  Manually evaluating variables including income, employment status, and credit score is a common practice in traditional loan approval processes. This process can be laborious and costly.\n",
        "\n",
        "###Related Work\n",
        "\n",
        "Simple linear regression is a foundational statistical technique used to model the relationship between a dependent variable and a single independent variable. It is widely applied across various domains, including finance, economics, and social sciences, due to its simplicity and interpretability. According to the National Centre for Learning (NCL), simple linear regression aims to fit a straight line to the data, represented by the equation\n",
        "$y=β_0+β_1x$\n",
        "where $y$ is the dependent variable, $x$ is the independent variable, $β_0$ is the intercept, and $β_1$ is the slope of the line. This method is particularly useful for understanding and quantifying the linear relationship between two variables, making it a popular choice for predictive modeling tasks.\n",
        "\n",
        "In terms of Python implementation, GeeksforGeeks offers a detailed approach to leveraging libraries like NumPy, pandas, and scikit-learn to conduct basic linear regression.  The course emphasizes the necessity of data pretreatment, which includes managing missing values and normalizing data, in ensuring correct model performance.  Similarly, Sudhir N's Kaggle course describes the actual stages required in developing a linear regression model, from exploratory data analysis (EDA) to model evaluation using metrics such as Mean Squared Error (MSE) and R-squared.\n",
        "\n",
        "Shuvam Das' Medium piece delves deeper into the practical use of basic linear regression.  The author illustrates how to analyze the slope and intercept of a regression line, which provides information about the connection between variables.  For example, a positive slope implies a direct association, whereas a negative slope shows an inverse relationship.  These interpretations are useful for understanding the model's consequences in real-world applications, such as forecasting loan acceptance based on income or credit score.\n",
        "\n",
        "**Links**\n",
        "\n",
        "https://www.geeksforgeeks.org/linear-regression-python-implementation/\n",
        "\n",
        "https://www.ncl.ac.uk/webtemplate/ask-assets/external/maths-resources/statistics/regression-and-correlation/simple-linear-regression.html\n",
        "\n",
        "https://www.kaggle.com/code/sudhirnl7/linear-regression-tutorial\n",
        "\n",
        "https://medium.com/@shuv.sdr/simple-linear-regression-in-python-a0069b325bf8\n",
        "\n",
        "###Proposed Methology/Models\n",
        "\n",
        "The proposed methodology involves the following steps:\n",
        "\n",
        "1. Data Preprocessing: Clean the dataset by handling missing values, encoding categorical variables (e.g., job status), and normalizing numerical features (e.g., income, credit score).\n",
        "\n",
        "2. Feature Selection: Identify the most relevant single feature for predicting loan approval using techniques such as correlation analysis. For example, credit score or income may be selected as the independent variable.\n",
        "\n",
        "3. Model Selection: Implement a simple linear regression model to predict loan approval based on the selected feature. The model will be of the form:\n",
        "\n",
        "$y$=$β_0$ + $β_1x$\n",
        "\n",
        "4. where $y$ is the predicted loan approval probability, $x$ is the independent variable (e.g., credit score), and $β_0$ and $β_1$ are the model coefficients.\n",
        "\n",
        "5. Model Evaluation: Evaluate model performance using metrics such as Root Mean Squared Error (RMSE) and R-squared.\n",
        "\n",
        "6. Interpretation: Analyze the model coefficients to understand the relationship between the independent variable and loan approval probability.\n",
        "\n",
        "\n",
        "###Experiment Setups\n",
        "\n",
        "To guarantee a comprehensive and methodical study, the experiment will be carried out in many stages.  The dataset will first be loaded from Kaggle and preprocessed to deal with missing values, normalize numerical features (like income and credit score), and encode categorical variables (like job status). Understanding the distributions and linkages within the data will be accomplished through data analysis, with a special emphasis on determining which characteristic is most relevant for forecasting loan acceptance.  The independent variable (such as income and credit score) having the strongest linear link to loan approval will be chosen using correlation analysis.  Following testing on the test set, metrics such as R-squared and Root Mean Squared Error (RMSE) will be used to evaluate the created model's performance.   The model coefficients will next be examined in order to interpret the relationship between the independent variable and the probability of loan acceptance.\n",
        "\n",
        "###Expected Results\n",
        "\n",
        "The desired goal of this project is the creation of a simple linear regression model that reliably predicts the chance of loan acceptance based on a single important variable, such as credit score or income.  The model coefficients will offer information about the association between the specified variable and the chance of loan acceptance.  For example, a positive credit score coefficient would imply that better credit ratings are more likely to be approved for a loan.  The model's success will be measured using metrics such as R-squared, which indicates how much of the variation in loan approval is explained by the independent variable.\n",
        "\n",
        "While the model is supposed to give a basic knowledge of the link between the selected attribute and loan acceptance, its simplicity may limit its ability to capture all of the nuances of the loan approval process.  However, the model will serve as a starting point for future research by including new variables or more advanced statistical approaches.  The findings will be documented and presented in a simple and understandable format, making them available to stakeholders that value openness and simplicity in decision-making.\n",
        "\n",
        "###Roles\n",
        "\n",
        "The whole project is to be expected to be completely by Alisa Fedorova. This means that the following sections have such assignment:\n",
        "\n",
        "1. Introduction - Alisa Fedorova\n",
        "2. Related work - Alisa Fedorova\n",
        "3. Proposed methodology - Alisa Fedorova\n",
        "4. Experiment setups and result discussion - Alisa Fedorova\n",
        "5. Comparison - Alisa Fedorova\n",
        "6. Conclusion - Alisa Fedorova\n",
        "7. Acknowledgments - Alisa Fedorova\n",
        "8. Author contributions - Alisa Fedorova\n",
        "9. Data availability - Alisa Fedorova\n",
        "10. References - Alisa Fedorova"
      ],
      "metadata": {
        "id": "hLMJZXaRjIVn"
      }
    }
  ]
}