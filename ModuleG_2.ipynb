{
  "nbformat": 4,
  "nbformat_minor": 0,
  "metadata": {
    "colab": {
      "provenance": [],
      "authorship_tag": "ABX9TyP0PeKkYFE7fuGHlTbrDDuZ",
      "include_colab_link": true
    },
    "kernelspec": {
      "name": "python3",
      "display_name": "Python 3"
    },
    "language_info": {
      "name": "python"
    }
  },
  "cells": [
    {
      "cell_type": "markdown",
      "metadata": {
        "id": "view-in-github",
        "colab_type": "text"
      },
      "source": [
        "<a href=\"https://colab.research.google.com/github/Aleksandrovna15/MAT-421/blob/main/ModuleG_2.ipynb\" target=\"_parent\"><img src=\"https://colab.research.google.com/assets/colab-badge.svg\" alt=\"Open In Colab\"/></a>"
      ]
    },
    {
      "cell_type": "markdown",
      "source": [
        "## Module G Part 2 - Alisa Fedorova"
      ],
      "metadata": {
        "id": "u7BB4ZXFJ4XW"
      }
    },
    {
      "cell_type": "markdown",
      "source": [
        "21.4 Simpson's Rule\n",
        "*   approximates the area under f(x) over the intervals [x_(i-1), x_i] and [x_i, x_(i+1)]\n",
        "*   First, we construct the quadratic polynomial approximation of the function over the two subintervals. This is usually done with Lagrange polynomials\n",
        "*   Then, we integrate those polynomials to get the area\n",
        "*   To use the Simpson's rule we must have an even number of intervals and odd number of grip points.\n",
        "*   To compute the accuracy of the Simpson's rule we can use Taylor series approximation of f(x) around x_i."
      ],
      "metadata": {
        "id": "A_Z5tj6pfTbv"
      }
    },
    {
      "cell_type": "code",
      "source": [
        "#approximation of integral from 0 to pi of sin(x)dx\n",
        "import numpy as np\n",
        "\n",
        "a = 0\n",
        "b = np.pi\n",
        "n = 11\n",
        "h = (b - a) / (n - 1)\n",
        "x = np.linspace(a, b, n)\n",
        "f = np.sin(x)\n",
        "\n",
        "I_simp = (h/3) * (f[0] + 2*sum(f[:n-2:2]) \\\n",
        "            + 4*sum(f[1:n-1:2]) + f[n-1])\n",
        "err_simp = 2 - I_simp\n",
        "\n",
        "print(I_simp)\n",
        "print(err_simp)"
      ],
      "metadata": {
        "colab": {
          "base_uri": "https://localhost:8080/"
        },
        "id": "qBwgMCrbxAyK",
        "outputId": "0ec0c799-ce50-477c-d4a7-92c08a1d227b"
      },
      "execution_count": 1,
      "outputs": [
        {
          "output_type": "stream",
          "name": "stdout",
          "text": [
            "2.0001095173150043\n",
            "-0.00010951731500430384\n"
          ]
        }
      ]
    },
    {
      "cell_type": "markdown",
      "source": [
        "21.5 Computing Integral in Python\n",
        "*   scipy.integrate subpackage has the trapezoid function that takes an array of f inputs and applies the trapezoid rule to them."
      ],
      "metadata": {
        "id": "dj4RDk74xLgW"
      }
    },
    {
      "cell_type": "code",
      "source": [
        "import numpy as np\n",
        "from scipy.integrate import trapezoid\n",
        "\n",
        "a = 0\n",
        "b = np.pi\n",
        "n = 11\n",
        "h = (b - a) / (n - 1)\n",
        "x = np.linspace(a, b, n)\n",
        "f = np.sin(x)\n",
        "\n",
        "I_trapz = trapezoid(f,x)\n",
        "I_trap = (h/2)*(f[0] + 2 * sum(f[1:n-1]) + f[n-1])\n",
        "\n",
        "print(I_trapz)\n",
        "print(I_trap)"
      ],
      "metadata": {
        "colab": {
          "base_uri": "https://localhost:8080/"
        },
        "id": "4rf4UJ1J82cM",
        "outputId": "bcfd8397-3292-4f38-e498-7f65101242ff"
      },
      "execution_count": 7,
      "outputs": [
        {
          "output_type": "stream",
          "name": "stdout",
          "text": [
            "1.9835235375094544\n",
            "1.9835235375094546\n"
          ]
        }
      ]
    },
    {
      "cell_type": "markdown",
      "source": [
        "*   there is also a cumulative integral formula that we can use"
      ],
      "metadata": {
        "id": "AJoTWUkj_aQU"
      }
    },
    {
      "cell_type": "code",
      "source": [
        "!pip install --upgrade scipy\n",
        "from scipy.integrate import cumtrapz\n",
        "import matplotlib.pyplot as plt\n",
        "\n",
        "%matplotlib inline\n",
        "\n",
        "x = np.arange(0, np.pi, 0.01)\n",
        "F_exact = -np.cos(x)\n",
        "F_approx = cumtrapz(np.sin(x), x)\n",
        "\n",
        "plt.figure(figsize = (10,6))\n",
        "plt.plot(x, F_exact)\n",
        "plt.plot(x[1::], F_approx)\n",
        "plt.grid()\n",
        "plt.tight_layout()\n",
        "plt.title('$F(x) = \\int_0^{x} sin(y) dy$')\n",
        "plt.xlabel('x')\n",
        "plt.ylabel('f(x)')\n",
        "plt.legend(['Exact with Offset', 'Approx'])\n",
        "plt.show()"
      ],
      "metadata": {
        "collapsed": true,
        "id": "KhClVBIi_obM"
      },
      "execution_count": null,
      "outputs": []
    },
    {
      "cell_type": "markdown",
      "source": [
        "The quad(f,a,b) function uses a different numerical differentiation scheme to approximate integrals. quad integrates the function defined by the function object, f, from a to b."
      ],
      "metadata": {
        "id": "WOeZ-Q-zA5oL"
      }
    },
    {
      "cell_type": "code",
      "source": [
        "from scipy.integrate import quad\n",
        "\n",
        "I_quad, est_err_quad = \\\n",
        "          quad(np.sin, 0, np.pi)\n",
        "print(I_quad)\n",
        "err_quad = 2 - I_quad\n",
        "print(est_err_quad, err_quad)"
      ],
      "metadata": {
        "colab": {
          "base_uri": "https://localhost:8080/"
        },
        "id": "StOyEbGMAyOs",
        "outputId": "562d9172-5901-4f44-c841-fb506532f034"
      },
      "execution_count": 12,
      "outputs": [
        {
          "output_type": "stream",
          "name": "stdout",
          "text": [
            "2.0\n",
            "2.220446049250313e-14 0.0\n"
          ]
        }
      ]
    }
  ]
}